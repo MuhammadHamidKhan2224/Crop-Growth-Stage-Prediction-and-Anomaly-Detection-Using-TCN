{
 "cells": [
  {
   "cell_type": "markdown",
   "id": "6050d20b-9211-43db-a9d5-e09c1facd696",
   "metadata": {},
   "source": [
    "# Importing All Necessary Libraries "
   ]
  },
  {
   "cell_type": "code",
   "execution_count": 3,
   "id": "db82a9bd-135f-4ab8-8b4b-01a9b919bff4",
   "metadata": {},
   "outputs": [],
   "source": [
    "import pandas as pd\n",
    "import numpy as np\n",
    "import seaborn as sns\n",
    "import matplotlib.pyplot as plt\n",
    "%matplotlib inline"
   ]
  },
  {
   "cell_type": "code",
   "execution_count": 20,
   "id": "36356dea-79c7-477a-be73-9d9883f693e1",
   "metadata": {},
   "outputs": [],
   "source": [
    "from sklearn.ensemble import RandomForestClassifier\n",
    "from sklearn.preprocessing import LabelEncoder\n",
    "from sklearn.model_selection import train_test_split\n",
    "from sklearn.metrics import accuracy_score"
   ]
  },
  {
   "cell_type": "markdown",
   "id": "b6419200-c3ee-4d38-a866-e1ff51d36e42",
   "metadata": {},
   "source": [
    "# Imported the Dataset "
   ]
  },
  {
   "cell_type": "code",
   "execution_count": 7,
   "id": "c908e9c3-9228-4ff4-b595-52e97412bf78",
   "metadata": {},
   "outputs": [],
   "source": [
    "agri = pd.read_csv(\"Pakistan Agricultural Ground Truthing Survey Data 2022-2023.csv\", encoding=\"ISO-8859-1\")"
   ]
  },
  {
   "cell_type": "markdown",
   "id": "d91346a0-957f-418b-84ef-160238b808b7",
   "metadata": {},
   "source": [
    "# Overview of the Dataset "
   ]
  },
  {
   "cell_type": "code",
   "execution_count": 9,
   "id": "98c1dcd4-cda1-4604-a663-9e8af6f15785",
   "metadata": {},
   "outputs": [
    {
     "data": {
      "text/html": [
       "<div>\n",
       "<style scoped>\n",
       "    .dataframe tbody tr th:only-of-type {\n",
       "        vertical-align: middle;\n",
       "    }\n",
       "\n",
       "    .dataframe tbody tr th {\n",
       "        vertical-align: top;\n",
       "    }\n",
       "\n",
       "    .dataframe thead th {\n",
       "        text-align: right;\n",
       "    }\n",
       "</style>\n",
       "<table border=\"1\" class=\"dataframe\">\n",
       "  <thead>\n",
       "    <tr style=\"text-align: right;\">\n",
       "      <th></th>\n",
       "      <th>ID</th>\n",
       "      <th>Season</th>\n",
       "      <th>Province</th>\n",
       "      <th>District</th>\n",
       "      <th>Date</th>\n",
       "      <th>Latitude</th>\n",
       "      <th>Longitude</th>\n",
       "      <th>Code</th>\n",
       "      <th>Land</th>\n",
       "      <th>Description</th>\n",
       "      <th>Stage</th>\n",
       "    </tr>\n",
       "  </thead>\n",
       "  <tbody>\n",
       "    <tr>\n",
       "      <th>0</th>\n",
       "      <td>3-324-20-2-19082023-1-1</td>\n",
       "      <td>Kharif</td>\n",
       "      <td>Khyber Pakhtunkhwa</td>\n",
       "      <td>Malakand</td>\n",
       "      <td>19/08/2023</td>\n",
       "      <td>34.449521</td>\n",
       "      <td>71.907877</td>\n",
       "      <td>6</td>\n",
       "      <td>Builtup</td>\n",
       "      <td>Builtup</td>\n",
       "      <td>NaN</td>\n",
       "    </tr>\n",
       "    <tr>\n",
       "      <th>1</th>\n",
       "      <td>3-324-20-2-19082023-1-2</td>\n",
       "      <td>Kharif</td>\n",
       "      <td>Khyber Pakhtunkhwa</td>\n",
       "      <td>Malakand</td>\n",
       "      <td>19/08/2023</td>\n",
       "      <td>34.430481</td>\n",
       "      <td>71.904408</td>\n",
       "      <td>3</td>\n",
       "      <td>Cropland</td>\n",
       "      <td>Sugarcane</td>\n",
       "      <td>Peak Growth</td>\n",
       "    </tr>\n",
       "    <tr>\n",
       "      <th>2</th>\n",
       "      <td>3-324-20-2-19082023-1-3</td>\n",
       "      <td>Kharif</td>\n",
       "      <td>Khyber Pakhtunkhwa</td>\n",
       "      <td>Malakand</td>\n",
       "      <td>19/08/2023</td>\n",
       "      <td>34.428686</td>\n",
       "      <td>71.901710</td>\n",
       "      <td>3</td>\n",
       "      <td>Cropland</td>\n",
       "      <td>Sugarcane</td>\n",
       "      <td>Peak Growth</td>\n",
       "    </tr>\n",
       "    <tr>\n",
       "      <th>3</th>\n",
       "      <td>3-324-20-2-19082023-1-4</td>\n",
       "      <td>Kharif</td>\n",
       "      <td>Khyber Pakhtunkhwa</td>\n",
       "      <td>Malakand</td>\n",
       "      <td>19/08/2023</td>\n",
       "      <td>34.428596</td>\n",
       "      <td>71.896705</td>\n",
       "      <td>6</td>\n",
       "      <td>Builtup</td>\n",
       "      <td>Builtup</td>\n",
       "      <td>NaN</td>\n",
       "    </tr>\n",
       "    <tr>\n",
       "      <th>4</th>\n",
       "      <td>3-324-20-2-19082023-1-5</td>\n",
       "      <td>Kharif</td>\n",
       "      <td>Khyber Pakhtunkhwa</td>\n",
       "      <td>Malakand</td>\n",
       "      <td>19/08/2023</td>\n",
       "      <td>34.427846</td>\n",
       "      <td>71.897687</td>\n",
       "      <td>3</td>\n",
       "      <td>Cropland</td>\n",
       "      <td>Sugarcane</td>\n",
       "      <td>Peak Growth</td>\n",
       "    </tr>\n",
       "  </tbody>\n",
       "</table>\n",
       "</div>"
      ],
      "text/plain": [
       "                        ID  Season            Province  District        Date  \\\n",
       "0  3-324-20-2-19082023-1-1  Kharif  Khyber Pakhtunkhwa  Malakand  19/08/2023   \n",
       "1  3-324-20-2-19082023-1-2  Kharif  Khyber Pakhtunkhwa  Malakand  19/08/2023   \n",
       "2  3-324-20-2-19082023-1-3  Kharif  Khyber Pakhtunkhwa  Malakand  19/08/2023   \n",
       "3  3-324-20-2-19082023-1-4  Kharif  Khyber Pakhtunkhwa  Malakand  19/08/2023   \n",
       "4  3-324-20-2-19082023-1-5  Kharif  Khyber Pakhtunkhwa  Malakand  19/08/2023   \n",
       "\n",
       "    Latitude  Longitude  Code      Land Description         Stage  \n",
       "0  34.449521  71.907877     6   Builtup     Builtup           NaN  \n",
       "1  34.430481  71.904408     3  Cropland   Sugarcane  Peak Growth   \n",
       "2  34.428686  71.901710     3  Cropland   Sugarcane  Peak Growth   \n",
       "3  34.428596  71.896705     6   Builtup     Builtup           NaN  \n",
       "4  34.427846  71.897687     3  Cropland   Sugarcane  Peak Growth   "
      ]
     },
     "execution_count": 9,
     "metadata": {},
     "output_type": "execute_result"
    }
   ],
   "source": [
    "agri.head()"
   ]
  },
  {
   "cell_type": "markdown",
   "id": "170daddc-2930-4525-938d-ea8577a321c6",
   "metadata": {},
   "source": [
    "# Summary Statistics "
   ]
  },
  {
   "cell_type": "code",
   "execution_count": 13,
   "id": "beca4a3a-d92f-4180-9b28-52c7b3cc91f9",
   "metadata": {},
   "outputs": [
    {
     "data": {
      "text/html": [
       "<div>\n",
       "<style scoped>\n",
       "    .dataframe tbody tr th:only-of-type {\n",
       "        vertical-align: middle;\n",
       "    }\n",
       "\n",
       "    .dataframe tbody tr th {\n",
       "        vertical-align: top;\n",
       "    }\n",
       "\n",
       "    .dataframe thead th {\n",
       "        text-align: right;\n",
       "    }\n",
       "</style>\n",
       "<table border=\"1\" class=\"dataframe\">\n",
       "  <thead>\n",
       "    <tr style=\"text-align: right;\">\n",
       "      <th></th>\n",
       "      <th>Latitude</th>\n",
       "      <th>Longitude</th>\n",
       "      <th>Code</th>\n",
       "    </tr>\n",
       "  </thead>\n",
       "  <tbody>\n",
       "    <tr>\n",
       "      <th>count</th>\n",
       "      <td>136822.000000</td>\n",
       "      <td>136822.000000</td>\n",
       "      <td>136822.000000</td>\n",
       "    </tr>\n",
       "    <tr>\n",
       "      <th>mean</th>\n",
       "      <td>29.221921</td>\n",
       "      <td>70.107234</td>\n",
       "      <td>3.616063</td>\n",
       "    </tr>\n",
       "    <tr>\n",
       "      <th>std</th>\n",
       "      <td>2.773811</td>\n",
       "      <td>2.187491</td>\n",
       "      <td>3.509792</td>\n",
       "    </tr>\n",
       "    <tr>\n",
       "      <th>min</th>\n",
       "      <td>24.129792</td>\n",
       "      <td>64.758615</td>\n",
       "      <td>1.000000</td>\n",
       "    </tr>\n",
       "    <tr>\n",
       "      <th>25%</th>\n",
       "      <td>27.386015</td>\n",
       "      <td>68.216775</td>\n",
       "      <td>1.000000</td>\n",
       "    </tr>\n",
       "    <tr>\n",
       "      <th>50%</th>\n",
       "      <td>28.673093</td>\n",
       "      <td>69.407136</td>\n",
       "      <td>2.000000</td>\n",
       "    </tr>\n",
       "    <tr>\n",
       "      <th>75%</th>\n",
       "      <td>31.309931</td>\n",
       "      <td>72.032498</td>\n",
       "      <td>6.000000</td>\n",
       "    </tr>\n",
       "    <tr>\n",
       "      <th>max</th>\n",
       "      <td>35.623886</td>\n",
       "      <td>74.879176</td>\n",
       "      <td>23.000000</td>\n",
       "    </tr>\n",
       "  </tbody>\n",
       "</table>\n",
       "</div>"
      ],
      "text/plain": [
       "            Latitude      Longitude           Code\n",
       "count  136822.000000  136822.000000  136822.000000\n",
       "mean       29.221921      70.107234       3.616063\n",
       "std         2.773811       2.187491       3.509792\n",
       "min        24.129792      64.758615       1.000000\n",
       "25%        27.386015      68.216775       1.000000\n",
       "50%        28.673093      69.407136       2.000000\n",
       "75%        31.309931      72.032498       6.000000\n",
       "max        35.623886      74.879176      23.000000"
      ]
     },
     "execution_count": 13,
     "metadata": {},
     "output_type": "execute_result"
    }
   ],
   "source": [
    "agri.describe()"
   ]
  },
  {
   "cell_type": "markdown",
   "id": "b9a3883a-1df1-40b6-8236-cda080eee6e8",
   "metadata": {},
   "source": [
    "# Basic Information of the Data"
   ]
  },
  {
   "cell_type": "code",
   "execution_count": 15,
   "id": "c0ddad87-844a-4752-834e-b2126e8bc043",
   "metadata": {},
   "outputs": [
    {
     "data": {
      "text/plain": [
       "ID                 0\n",
       "Season             0\n",
       "Province           0\n",
       "District           0\n",
       "Date               0\n",
       "Latitude           0\n",
       "Longitude          0\n",
       "Code               0\n",
       "Land               0\n",
       "Description        0\n",
       "Stage          33708\n",
       "dtype: int64"
      ]
     },
     "execution_count": 15,
     "metadata": {},
     "output_type": "execute_result"
    }
   ],
   "source": [
    "agri.isnull().sum()"
   ]
  },
  {
   "cell_type": "markdown",
   "id": "7ac70e39-638e-491a-89fb-d43a33438bc6",
   "metadata": {},
   "source": [
    "# Rows and Columns in the Dataset "
   ]
  },
  {
   "cell_type": "code",
   "execution_count": 17,
   "id": "b24d716f-f188-4c35-9454-72c40dae0b02",
   "metadata": {},
   "outputs": [
    {
     "data": {
      "text/plain": [
       "(136822, 11)"
      ]
     },
     "execution_count": 17,
     "metadata": {},
     "output_type": "execute_result"
    }
   ],
   "source": [
    "agri.shape"
   ]
  },
  {
   "cell_type": "markdown",
   "id": "6dae69d0-b610-4f5b-86cf-a0e3e6a563ef",
   "metadata": {},
   "source": [
    "# Checking the Missing Values"
   ]
  },
  {
   "cell_type": "code",
   "execution_count": 24,
   "id": "ae500ece-06aa-433a-8023-34998d761b2d",
   "metadata": {},
   "outputs": [],
   "source": [
    "agri_train = agri[agri[\"Stage\"].notnull()]\n",
    "agri_missing = agri[agri[\"Stage\"].isnull()]"
   ]
  },
  {
   "cell_type": "markdown",
   "id": "fa356d42-af91-4ea2-8a38-97632ceaea07",
   "metadata": {},
   "source": [
    "# Normalization of the Dataset (Label Encoding)"
   ]
  },
  {
   "cell_type": "code",
   "execution_count": 26,
   "id": "e9a5059e-8c3a-4611-967a-13caf85fab26",
   "metadata": {},
   "outputs": [
    {
     "name": "stderr",
     "output_type": "stream",
     "text": [
      "C:\\Users\\DELL\\AppData\\Local\\Temp\\ipykernel_10012\\38763966.py:2: SettingWithCopyWarning: \n",
      "A value is trying to be set on a copy of a slice from a DataFrame.\n",
      "Try using .loc[row_indexer,col_indexer] = value instead\n",
      "\n",
      "See the caveats in the documentation: https://pandas.pydata.org/pandas-docs/stable/user_guide/indexing.html#returning-a-view-versus-a-copy\n",
      "  agri_train[\"Season\"] = encoder.fit_transform(agri_train[\"Season\"])\n",
      "C:\\Users\\DELL\\AppData\\Local\\Temp\\ipykernel_10012\\38763966.py:3: SettingWithCopyWarning: \n",
      "A value is trying to be set on a copy of a slice from a DataFrame.\n",
      "Try using .loc[row_indexer,col_indexer] = value instead\n",
      "\n",
      "See the caveats in the documentation: https://pandas.pydata.org/pandas-docs/stable/user_guide/indexing.html#returning-a-view-versus-a-copy\n",
      "  agri_missing[\"Season\"] = encoder.transform(agri_missing[\"Season\"])\n"
     ]
    }
   ],
   "source": [
    "encoder = LabelEncoder()\n",
    "agri_train[\"Season\"] = encoder.fit_transform(agri_train[\"Season\"])\n",
    "agri_missing[\"Season\"] = encoder.transform(agri_missing[\"Season\"])\n"
   ]
  },
  {
   "cell_type": "markdown",
   "id": "253868ba-bb5f-4e66-9da6-e1d8183f1c85",
   "metadata": {},
   "source": [
    "# Splitting Training and Test Data"
   ]
  },
  {
   "cell_type": "code",
   "execution_count": 28,
   "id": "aeef72da-fa11-468f-b10f-476cf419f54a",
   "metadata": {},
   "outputs": [],
   "source": [
    "X_train = agri_train[[\"Season\"]]  \n",
    "y_train = agri_train[\"Stage\"]  "
   ]
  },
  {
   "cell_type": "markdown",
   "id": "0bf1663e-6e72-478b-af12-a09c595ae40f",
   "metadata": {},
   "source": [
    "# Appling Algorithums (RFC)"
   ]
  },
  {
   "cell_type": "code",
   "execution_count": 30,
   "id": "b81f4be8-8ba6-4665-b50a-cc6c553aaf0d",
   "metadata": {},
   "outputs": [
    {
     "data": {
      "text/html": [
       "<style>#sk-container-id-1 {\n",
       "  /* Definition of color scheme common for light and dark mode */\n",
       "  --sklearn-color-text: #000;\n",
       "  --sklearn-color-text-muted: #666;\n",
       "  --sklearn-color-line: gray;\n",
       "  /* Definition of color scheme for unfitted estimators */\n",
       "  --sklearn-color-unfitted-level-0: #fff5e6;\n",
       "  --sklearn-color-unfitted-level-1: #f6e4d2;\n",
       "  --sklearn-color-unfitted-level-2: #ffe0b3;\n",
       "  --sklearn-color-unfitted-level-3: chocolate;\n",
       "  /* Definition of color scheme for fitted estimators */\n",
       "  --sklearn-color-fitted-level-0: #f0f8ff;\n",
       "  --sklearn-color-fitted-level-1: #d4ebff;\n",
       "  --sklearn-color-fitted-level-2: #b3dbfd;\n",
       "  --sklearn-color-fitted-level-3: cornflowerblue;\n",
       "\n",
       "  /* Specific color for light theme */\n",
       "  --sklearn-color-text-on-default-background: var(--sg-text-color, var(--theme-code-foreground, var(--jp-content-font-color1, black)));\n",
       "  --sklearn-color-background: var(--sg-background-color, var(--theme-background, var(--jp-layout-color0, white)));\n",
       "  --sklearn-color-border-box: var(--sg-text-color, var(--theme-code-foreground, var(--jp-content-font-color1, black)));\n",
       "  --sklearn-color-icon: #696969;\n",
       "\n",
       "  @media (prefers-color-scheme: dark) {\n",
       "    /* Redefinition of color scheme for dark theme */\n",
       "    --sklearn-color-text-on-default-background: var(--sg-text-color, var(--theme-code-foreground, var(--jp-content-font-color1, white)));\n",
       "    --sklearn-color-background: var(--sg-background-color, var(--theme-background, var(--jp-layout-color0, #111)));\n",
       "    --sklearn-color-border-box: var(--sg-text-color, var(--theme-code-foreground, var(--jp-content-font-color1, white)));\n",
       "    --sklearn-color-icon: #878787;\n",
       "  }\n",
       "}\n",
       "\n",
       "#sk-container-id-1 {\n",
       "  color: var(--sklearn-color-text);\n",
       "}\n",
       "\n",
       "#sk-container-id-1 pre {\n",
       "  padding: 0;\n",
       "}\n",
       "\n",
       "#sk-container-id-1 input.sk-hidden--visually {\n",
       "  border: 0;\n",
       "  clip: rect(1px 1px 1px 1px);\n",
       "  clip: rect(1px, 1px, 1px, 1px);\n",
       "  height: 1px;\n",
       "  margin: -1px;\n",
       "  overflow: hidden;\n",
       "  padding: 0;\n",
       "  position: absolute;\n",
       "  width: 1px;\n",
       "}\n",
       "\n",
       "#sk-container-id-1 div.sk-dashed-wrapped {\n",
       "  border: 1px dashed var(--sklearn-color-line);\n",
       "  margin: 0 0.4em 0.5em 0.4em;\n",
       "  box-sizing: border-box;\n",
       "  padding-bottom: 0.4em;\n",
       "  background-color: var(--sklearn-color-background);\n",
       "}\n",
       "\n",
       "#sk-container-id-1 div.sk-container {\n",
       "  /* jupyter's `normalize.less` sets `[hidden] { display: none; }`\n",
       "     but bootstrap.min.css set `[hidden] { display: none !important; }`\n",
       "     so we also need the `!important` here to be able to override the\n",
       "     default hidden behavior on the sphinx rendered scikit-learn.org.\n",
       "     See: https://github.com/scikit-learn/scikit-learn/issues/21755 */\n",
       "  display: inline-block !important;\n",
       "  position: relative;\n",
       "}\n",
       "\n",
       "#sk-container-id-1 div.sk-text-repr-fallback {\n",
       "  display: none;\n",
       "}\n",
       "\n",
       "div.sk-parallel-item,\n",
       "div.sk-serial,\n",
       "div.sk-item {\n",
       "  /* draw centered vertical line to link estimators */\n",
       "  background-image: linear-gradient(var(--sklearn-color-text-on-default-background), var(--sklearn-color-text-on-default-background));\n",
       "  background-size: 2px 100%;\n",
       "  background-repeat: no-repeat;\n",
       "  background-position: center center;\n",
       "}\n",
       "\n",
       "/* Parallel-specific style estimator block */\n",
       "\n",
       "#sk-container-id-1 div.sk-parallel-item::after {\n",
       "  content: \"\";\n",
       "  width: 100%;\n",
       "  border-bottom: 2px solid var(--sklearn-color-text-on-default-background);\n",
       "  flex-grow: 1;\n",
       "}\n",
       "\n",
       "#sk-container-id-1 div.sk-parallel {\n",
       "  display: flex;\n",
       "  align-items: stretch;\n",
       "  justify-content: center;\n",
       "  background-color: var(--sklearn-color-background);\n",
       "  position: relative;\n",
       "}\n",
       "\n",
       "#sk-container-id-1 div.sk-parallel-item {\n",
       "  display: flex;\n",
       "  flex-direction: column;\n",
       "}\n",
       "\n",
       "#sk-container-id-1 div.sk-parallel-item:first-child::after {\n",
       "  align-self: flex-end;\n",
       "  width: 50%;\n",
       "}\n",
       "\n",
       "#sk-container-id-1 div.sk-parallel-item:last-child::after {\n",
       "  align-self: flex-start;\n",
       "  width: 50%;\n",
       "}\n",
       "\n",
       "#sk-container-id-1 div.sk-parallel-item:only-child::after {\n",
       "  width: 0;\n",
       "}\n",
       "\n",
       "/* Serial-specific style estimator block */\n",
       "\n",
       "#sk-container-id-1 div.sk-serial {\n",
       "  display: flex;\n",
       "  flex-direction: column;\n",
       "  align-items: center;\n",
       "  background-color: var(--sklearn-color-background);\n",
       "  padding-right: 1em;\n",
       "  padding-left: 1em;\n",
       "}\n",
       "\n",
       "\n",
       "/* Toggleable style: style used for estimator/Pipeline/ColumnTransformer box that is\n",
       "clickable and can be expanded/collapsed.\n",
       "- Pipeline and ColumnTransformer use this feature and define the default style\n",
       "- Estimators will overwrite some part of the style using the `sk-estimator` class\n",
       "*/\n",
       "\n",
       "/* Pipeline and ColumnTransformer style (default) */\n",
       "\n",
       "#sk-container-id-1 div.sk-toggleable {\n",
       "  /* Default theme specific background. It is overwritten whether we have a\n",
       "  specific estimator or a Pipeline/ColumnTransformer */\n",
       "  background-color: var(--sklearn-color-background);\n",
       "}\n",
       "\n",
       "/* Toggleable label */\n",
       "#sk-container-id-1 label.sk-toggleable__label {\n",
       "  cursor: pointer;\n",
       "  display: flex;\n",
       "  width: 100%;\n",
       "  margin-bottom: 0;\n",
       "  padding: 0.5em;\n",
       "  box-sizing: border-box;\n",
       "  text-align: center;\n",
       "  align-items: start;\n",
       "  justify-content: space-between;\n",
       "  gap: 0.5em;\n",
       "}\n",
       "\n",
       "#sk-container-id-1 label.sk-toggleable__label .caption {\n",
       "  font-size: 0.6rem;\n",
       "  font-weight: lighter;\n",
       "  color: var(--sklearn-color-text-muted);\n",
       "}\n",
       "\n",
       "#sk-container-id-1 label.sk-toggleable__label-arrow:before {\n",
       "  /* Arrow on the left of the label */\n",
       "  content: \"▸\";\n",
       "  float: left;\n",
       "  margin-right: 0.25em;\n",
       "  color: var(--sklearn-color-icon);\n",
       "}\n",
       "\n",
       "#sk-container-id-1 label.sk-toggleable__label-arrow:hover:before {\n",
       "  color: var(--sklearn-color-text);\n",
       "}\n",
       "\n",
       "/* Toggleable content - dropdown */\n",
       "\n",
       "#sk-container-id-1 div.sk-toggleable__content {\n",
       "  max-height: 0;\n",
       "  max-width: 0;\n",
       "  overflow: hidden;\n",
       "  text-align: left;\n",
       "  /* unfitted */\n",
       "  background-color: var(--sklearn-color-unfitted-level-0);\n",
       "}\n",
       "\n",
       "#sk-container-id-1 div.sk-toggleable__content.fitted {\n",
       "  /* fitted */\n",
       "  background-color: var(--sklearn-color-fitted-level-0);\n",
       "}\n",
       "\n",
       "#sk-container-id-1 div.sk-toggleable__content pre {\n",
       "  margin: 0.2em;\n",
       "  border-radius: 0.25em;\n",
       "  color: var(--sklearn-color-text);\n",
       "  /* unfitted */\n",
       "  background-color: var(--sklearn-color-unfitted-level-0);\n",
       "}\n",
       "\n",
       "#sk-container-id-1 div.sk-toggleable__content.fitted pre {\n",
       "  /* unfitted */\n",
       "  background-color: var(--sklearn-color-fitted-level-0);\n",
       "}\n",
       "\n",
       "#sk-container-id-1 input.sk-toggleable__control:checked~div.sk-toggleable__content {\n",
       "  /* Expand drop-down */\n",
       "  max-height: 200px;\n",
       "  max-width: 100%;\n",
       "  overflow: auto;\n",
       "}\n",
       "\n",
       "#sk-container-id-1 input.sk-toggleable__control:checked~label.sk-toggleable__label-arrow:before {\n",
       "  content: \"▾\";\n",
       "}\n",
       "\n",
       "/* Pipeline/ColumnTransformer-specific style */\n",
       "\n",
       "#sk-container-id-1 div.sk-label input.sk-toggleable__control:checked~label.sk-toggleable__label {\n",
       "  color: var(--sklearn-color-text);\n",
       "  background-color: var(--sklearn-color-unfitted-level-2);\n",
       "}\n",
       "\n",
       "#sk-container-id-1 div.sk-label.fitted input.sk-toggleable__control:checked~label.sk-toggleable__label {\n",
       "  background-color: var(--sklearn-color-fitted-level-2);\n",
       "}\n",
       "\n",
       "/* Estimator-specific style */\n",
       "\n",
       "/* Colorize estimator box */\n",
       "#sk-container-id-1 div.sk-estimator input.sk-toggleable__control:checked~label.sk-toggleable__label {\n",
       "  /* unfitted */\n",
       "  background-color: var(--sklearn-color-unfitted-level-2);\n",
       "}\n",
       "\n",
       "#sk-container-id-1 div.sk-estimator.fitted input.sk-toggleable__control:checked~label.sk-toggleable__label {\n",
       "  /* fitted */\n",
       "  background-color: var(--sklearn-color-fitted-level-2);\n",
       "}\n",
       "\n",
       "#sk-container-id-1 div.sk-label label.sk-toggleable__label,\n",
       "#sk-container-id-1 div.sk-label label {\n",
       "  /* The background is the default theme color */\n",
       "  color: var(--sklearn-color-text-on-default-background);\n",
       "}\n",
       "\n",
       "/* On hover, darken the color of the background */\n",
       "#sk-container-id-1 div.sk-label:hover label.sk-toggleable__label {\n",
       "  color: var(--sklearn-color-text);\n",
       "  background-color: var(--sklearn-color-unfitted-level-2);\n",
       "}\n",
       "\n",
       "/* Label box, darken color on hover, fitted */\n",
       "#sk-container-id-1 div.sk-label.fitted:hover label.sk-toggleable__label.fitted {\n",
       "  color: var(--sklearn-color-text);\n",
       "  background-color: var(--sklearn-color-fitted-level-2);\n",
       "}\n",
       "\n",
       "/* Estimator label */\n",
       "\n",
       "#sk-container-id-1 div.sk-label label {\n",
       "  font-family: monospace;\n",
       "  font-weight: bold;\n",
       "  display: inline-block;\n",
       "  line-height: 1.2em;\n",
       "}\n",
       "\n",
       "#sk-container-id-1 div.sk-label-container {\n",
       "  text-align: center;\n",
       "}\n",
       "\n",
       "/* Estimator-specific */\n",
       "#sk-container-id-1 div.sk-estimator {\n",
       "  font-family: monospace;\n",
       "  border: 1px dotted var(--sklearn-color-border-box);\n",
       "  border-radius: 0.25em;\n",
       "  box-sizing: border-box;\n",
       "  margin-bottom: 0.5em;\n",
       "  /* unfitted */\n",
       "  background-color: var(--sklearn-color-unfitted-level-0);\n",
       "}\n",
       "\n",
       "#sk-container-id-1 div.sk-estimator.fitted {\n",
       "  /* fitted */\n",
       "  background-color: var(--sklearn-color-fitted-level-0);\n",
       "}\n",
       "\n",
       "/* on hover */\n",
       "#sk-container-id-1 div.sk-estimator:hover {\n",
       "  /* unfitted */\n",
       "  background-color: var(--sklearn-color-unfitted-level-2);\n",
       "}\n",
       "\n",
       "#sk-container-id-1 div.sk-estimator.fitted:hover {\n",
       "  /* fitted */\n",
       "  background-color: var(--sklearn-color-fitted-level-2);\n",
       "}\n",
       "\n",
       "/* Specification for estimator info (e.g. \"i\" and \"?\") */\n",
       "\n",
       "/* Common style for \"i\" and \"?\" */\n",
       "\n",
       ".sk-estimator-doc-link,\n",
       "a:link.sk-estimator-doc-link,\n",
       "a:visited.sk-estimator-doc-link {\n",
       "  float: right;\n",
       "  font-size: smaller;\n",
       "  line-height: 1em;\n",
       "  font-family: monospace;\n",
       "  background-color: var(--sklearn-color-background);\n",
       "  border-radius: 1em;\n",
       "  height: 1em;\n",
       "  width: 1em;\n",
       "  text-decoration: none !important;\n",
       "  margin-left: 0.5em;\n",
       "  text-align: center;\n",
       "  /* unfitted */\n",
       "  border: var(--sklearn-color-unfitted-level-1) 1pt solid;\n",
       "  color: var(--sklearn-color-unfitted-level-1);\n",
       "}\n",
       "\n",
       ".sk-estimator-doc-link.fitted,\n",
       "a:link.sk-estimator-doc-link.fitted,\n",
       "a:visited.sk-estimator-doc-link.fitted {\n",
       "  /* fitted */\n",
       "  border: var(--sklearn-color-fitted-level-1) 1pt solid;\n",
       "  color: var(--sklearn-color-fitted-level-1);\n",
       "}\n",
       "\n",
       "/* On hover */\n",
       "div.sk-estimator:hover .sk-estimator-doc-link:hover,\n",
       ".sk-estimator-doc-link:hover,\n",
       "div.sk-label-container:hover .sk-estimator-doc-link:hover,\n",
       ".sk-estimator-doc-link:hover {\n",
       "  /* unfitted */\n",
       "  background-color: var(--sklearn-color-unfitted-level-3);\n",
       "  color: var(--sklearn-color-background);\n",
       "  text-decoration: none;\n",
       "}\n",
       "\n",
       "div.sk-estimator.fitted:hover .sk-estimator-doc-link.fitted:hover,\n",
       ".sk-estimator-doc-link.fitted:hover,\n",
       "div.sk-label-container:hover .sk-estimator-doc-link.fitted:hover,\n",
       ".sk-estimator-doc-link.fitted:hover {\n",
       "  /* fitted */\n",
       "  background-color: var(--sklearn-color-fitted-level-3);\n",
       "  color: var(--sklearn-color-background);\n",
       "  text-decoration: none;\n",
       "}\n",
       "\n",
       "/* Span, style for the box shown on hovering the info icon */\n",
       ".sk-estimator-doc-link span {\n",
       "  display: none;\n",
       "  z-index: 9999;\n",
       "  position: relative;\n",
       "  font-weight: normal;\n",
       "  right: .2ex;\n",
       "  padding: .5ex;\n",
       "  margin: .5ex;\n",
       "  width: min-content;\n",
       "  min-width: 20ex;\n",
       "  max-width: 50ex;\n",
       "  color: var(--sklearn-color-text);\n",
       "  box-shadow: 2pt 2pt 4pt #999;\n",
       "  /* unfitted */\n",
       "  background: var(--sklearn-color-unfitted-level-0);\n",
       "  border: .5pt solid var(--sklearn-color-unfitted-level-3);\n",
       "}\n",
       "\n",
       ".sk-estimator-doc-link.fitted span {\n",
       "  /* fitted */\n",
       "  background: var(--sklearn-color-fitted-level-0);\n",
       "  border: var(--sklearn-color-fitted-level-3);\n",
       "}\n",
       "\n",
       ".sk-estimator-doc-link:hover span {\n",
       "  display: block;\n",
       "}\n",
       "\n",
       "/* \"?\"-specific style due to the `<a>` HTML tag */\n",
       "\n",
       "#sk-container-id-1 a.estimator_doc_link {\n",
       "  float: right;\n",
       "  font-size: 1rem;\n",
       "  line-height: 1em;\n",
       "  font-family: monospace;\n",
       "  background-color: var(--sklearn-color-background);\n",
       "  border-radius: 1rem;\n",
       "  height: 1rem;\n",
       "  width: 1rem;\n",
       "  text-decoration: none;\n",
       "  /* unfitted */\n",
       "  color: var(--sklearn-color-unfitted-level-1);\n",
       "  border: var(--sklearn-color-unfitted-level-1) 1pt solid;\n",
       "}\n",
       "\n",
       "#sk-container-id-1 a.estimator_doc_link.fitted {\n",
       "  /* fitted */\n",
       "  border: var(--sklearn-color-fitted-level-1) 1pt solid;\n",
       "  color: var(--sklearn-color-fitted-level-1);\n",
       "}\n",
       "\n",
       "/* On hover */\n",
       "#sk-container-id-1 a.estimator_doc_link:hover {\n",
       "  /* unfitted */\n",
       "  background-color: var(--sklearn-color-unfitted-level-3);\n",
       "  color: var(--sklearn-color-background);\n",
       "  text-decoration: none;\n",
       "}\n",
       "\n",
       "#sk-container-id-1 a.estimator_doc_link.fitted:hover {\n",
       "  /* fitted */\n",
       "  background-color: var(--sklearn-color-fitted-level-3);\n",
       "}\n",
       "</style><div id=\"sk-container-id-1\" class=\"sk-top-container\"><div class=\"sk-text-repr-fallback\"><pre>RandomForestClassifier(random_state=42)</pre><b>In a Jupyter environment, please rerun this cell to show the HTML representation or trust the notebook. <br />On GitHub, the HTML representation is unable to render, please try loading this page with nbviewer.org.</b></div><div class=\"sk-container\" hidden><div class=\"sk-item\"><div class=\"sk-estimator fitted sk-toggleable\"><input class=\"sk-toggleable__control sk-hidden--visually\" id=\"sk-estimator-id-1\" type=\"checkbox\" checked><label for=\"sk-estimator-id-1\" class=\"sk-toggleable__label fitted sk-toggleable__label-arrow\"><div><div>RandomForestClassifier</div></div><div><a class=\"sk-estimator-doc-link fitted\" rel=\"noreferrer\" target=\"_blank\" href=\"https://scikit-learn.org/1.6/modules/generated/sklearn.ensemble.RandomForestClassifier.html\">?<span>Documentation for RandomForestClassifier</span></a><span class=\"sk-estimator-doc-link fitted\">i<span>Fitted</span></span></div></label><div class=\"sk-toggleable__content fitted\"><pre>RandomForestClassifier(random_state=42)</pre></div> </div></div></div></div>"
      ],
      "text/plain": [
       "RandomForestClassifier(random_state=42)"
      ]
     },
     "execution_count": 30,
     "metadata": {},
     "output_type": "execute_result"
    }
   ],
   "source": [
    "rf_model = RandomForestClassifier(n_estimators=100, random_state=42)\n",
    "rf_model.fit(X_train, y_train)"
   ]
  },
  {
   "cell_type": "markdown",
   "id": "a7bd0d8f-abb5-4544-829b-180a36210808",
   "metadata": {},
   "source": [
    "# Prediction (Applying trained model on unseen dataset)"
   ]
  },
  {
   "cell_type": "code",
   "execution_count": 32,
   "id": "869f6b5d-188d-44dc-9a38-799f5ec21ef3",
   "metadata": {},
   "outputs": [
    {
     "name": "stderr",
     "output_type": "stream",
     "text": [
      "C:\\Users\\DELL\\AppData\\Local\\Temp\\ipykernel_10012\\2221192599.py:1: SettingWithCopyWarning: \n",
      "A value is trying to be set on a copy of a slice from a DataFrame.\n",
      "Try using .loc[row_indexer,col_indexer] = value instead\n",
      "\n",
      "See the caveats in the documentation: https://pandas.pydata.org/pandas-docs/stable/user_guide/indexing.html#returning-a-view-versus-a-copy\n",
      "  agri_missing[\"Stage\"] = rf_model.predict(agri_missing[[\"Season\"]])\n"
     ]
    }
   ],
   "source": [
    "agri_missing[\"Stage\"] = rf_model.predict(agri_missing[[\"Season\"]])"
   ]
  },
  {
   "cell_type": "code",
   "execution_count": 34,
   "id": "6e1b6996-e427-4380-8908-720dfd187563",
   "metadata": {},
   "outputs": [],
   "source": [
    "agri_filled = pd.concat([agri_train, agri_missing])"
   ]
  },
  {
   "cell_type": "markdown",
   "id": "6e46bfef-a96c-47c6-bd6f-e6d533892dae",
   "metadata": {},
   "source": [
    "# Save the Cleaned Dataset "
   ]
  },
  {
   "cell_type": "code",
   "execution_count": 607,
   "id": "6dd89e3a-300f-4175-8d3e-e068ee46e1af",
   "metadata": {},
   "outputs": [],
   "source": [
    "agri_filled.to_csv(\"imputed_dataset.csv\", index=False)"
   ]
  },
  {
   "cell_type": "markdown",
   "id": "723bf385-408f-4e5e-9eb9-791dde72438b",
   "metadata": {},
   "source": [
    "# Above all code was made as the part of preprocessing. Becuase there were around 33708 missing values in the dataset. I used Random Forest Classifier for missing value imputation. "
   ]
  },
  {
   "cell_type": "markdown",
   "id": "a285afc2-d9ef-48e9-9b7c-0da3ac6b7660",
   "metadata": {},
   "source": [
    "# Cleaned Dataset"
   ]
  },
  {
   "cell_type": "markdown",
   "id": "b266e45d-4533-4621-98cc-4dfb1761a194",
   "metadata": {},
   "source": [
    "# Importing the dataset"
   ]
  },
  {
   "cell_type": "code",
   "execution_count": 1043,
   "id": "bedd7168-4c93-4d72-b731-a34035e1f591",
   "metadata": {},
   "outputs": [],
   "source": [
    "agri1 = pd.read_csv(\"imputed_dataset.csv\")  "
   ]
  },
  {
   "cell_type": "code",
   "execution_count": 1045,
   "id": "a676e0b4-bed7-4214-a90b-7e70766b5a8d",
   "metadata": {},
   "outputs": [
    {
     "data": {
      "text/html": [
       "<div>\n",
       "<style scoped>\n",
       "    .dataframe tbody tr th:only-of-type {\n",
       "        vertical-align: middle;\n",
       "    }\n",
       "\n",
       "    .dataframe tbody tr th {\n",
       "        vertical-align: top;\n",
       "    }\n",
       "\n",
       "    .dataframe thead th {\n",
       "        text-align: right;\n",
       "    }\n",
       "</style>\n",
       "<table border=\"1\" class=\"dataframe\">\n",
       "  <thead>\n",
       "    <tr style=\"text-align: right;\">\n",
       "      <th></th>\n",
       "      <th>ID</th>\n",
       "      <th>Season</th>\n",
       "      <th>Province</th>\n",
       "      <th>District</th>\n",
       "      <th>Date</th>\n",
       "      <th>Latitude</th>\n",
       "      <th>Longitude</th>\n",
       "      <th>Code</th>\n",
       "      <th>Land</th>\n",
       "      <th>Description</th>\n",
       "      <th>Stage</th>\n",
       "    </tr>\n",
       "  </thead>\n",
       "  <tbody>\n",
       "    <tr>\n",
       "      <th>0</th>\n",
       "      <td>3-324-20-2-19082023-1-2</td>\n",
       "      <td>0</td>\n",
       "      <td>Khyber Pakhtunkhwa</td>\n",
       "      <td>Malakand</td>\n",
       "      <td>19/08/2023</td>\n",
       "      <td>34.430481</td>\n",
       "      <td>71.904408</td>\n",
       "      <td>3</td>\n",
       "      <td>Cropland</td>\n",
       "      <td>Sugarcane</td>\n",
       "      <td>Peak Growth</td>\n",
       "    </tr>\n",
       "    <tr>\n",
       "      <th>1</th>\n",
       "      <td>3-324-20-2-19082023-1-3</td>\n",
       "      <td>0</td>\n",
       "      <td>Khyber Pakhtunkhwa</td>\n",
       "      <td>Malakand</td>\n",
       "      <td>19/08/2023</td>\n",
       "      <td>34.428686</td>\n",
       "      <td>71.901710</td>\n",
       "      <td>3</td>\n",
       "      <td>Cropland</td>\n",
       "      <td>Sugarcane</td>\n",
       "      <td>Peak Growth</td>\n",
       "    </tr>\n",
       "    <tr>\n",
       "      <th>2</th>\n",
       "      <td>3-324-20-2-19082023-1-5</td>\n",
       "      <td>0</td>\n",
       "      <td>Khyber Pakhtunkhwa</td>\n",
       "      <td>Malakand</td>\n",
       "      <td>19/08/2023</td>\n",
       "      <td>34.427846</td>\n",
       "      <td>71.897687</td>\n",
       "      <td>3</td>\n",
       "      <td>Cropland</td>\n",
       "      <td>Sugarcane</td>\n",
       "      <td>Peak Growth</td>\n",
       "    </tr>\n",
       "    <tr>\n",
       "      <th>3</th>\n",
       "      <td>3-324-20-2-19082023-1-6</td>\n",
       "      <td>0</td>\n",
       "      <td>Khyber Pakhtunkhwa</td>\n",
       "      <td>Malakand</td>\n",
       "      <td>19/08/2023</td>\n",
       "      <td>34.428890</td>\n",
       "      <td>71.894260</td>\n",
       "      <td>3</td>\n",
       "      <td>Cropland</td>\n",
       "      <td>Sugarcane</td>\n",
       "      <td>Peak Growth</td>\n",
       "    </tr>\n",
       "    <tr>\n",
       "      <th>4</th>\n",
       "      <td>3-324-20-2-19082023-1-7</td>\n",
       "      <td>0</td>\n",
       "      <td>Khyber Pakhtunkhwa</td>\n",
       "      <td>Malakand</td>\n",
       "      <td>19/08/2023</td>\n",
       "      <td>34.428791</td>\n",
       "      <td>71.890851</td>\n",
       "      <td>3</td>\n",
       "      <td>Cropland</td>\n",
       "      <td>Sugarcane</td>\n",
       "      <td>Peak Growth</td>\n",
       "    </tr>\n",
       "  </tbody>\n",
       "</table>\n",
       "</div>"
      ],
      "text/plain": [
       "                        ID  Season            Province  District        Date  \\\n",
       "0  3-324-20-2-19082023-1-2       0  Khyber Pakhtunkhwa  Malakand  19/08/2023   \n",
       "1  3-324-20-2-19082023-1-3       0  Khyber Pakhtunkhwa  Malakand  19/08/2023   \n",
       "2  3-324-20-2-19082023-1-5       0  Khyber Pakhtunkhwa  Malakand  19/08/2023   \n",
       "3  3-324-20-2-19082023-1-6       0  Khyber Pakhtunkhwa  Malakand  19/08/2023   \n",
       "4  3-324-20-2-19082023-1-7       0  Khyber Pakhtunkhwa  Malakand  19/08/2023   \n",
       "\n",
       "    Latitude  Longitude  Code      Land Description         Stage  \n",
       "0  34.430481  71.904408     3  Cropland   Sugarcane  Peak Growth   \n",
       "1  34.428686  71.901710     3  Cropland   Sugarcane  Peak Growth   \n",
       "2  34.427846  71.897687     3  Cropland   Sugarcane  Peak Growth   \n",
       "3  34.428890  71.894260     3  Cropland   Sugarcane  Peak Growth   \n",
       "4  34.428791  71.890851     3  Cropland   Sugarcane  Peak Growth   "
      ]
     },
     "execution_count": 1045,
     "metadata": {},
     "output_type": "execute_result"
    }
   ],
   "source": [
    "agri1.head()"
   ]
  },
  {
   "cell_type": "markdown",
   "id": "214e08b3-31fc-4594-b7fc-7b00f7a28cc9",
   "metadata": {},
   "source": [
    "# Rechecking the Missing Values (After RFC has applied) "
   ]
  },
  {
   "cell_type": "code",
   "execution_count": 1047,
   "id": "b1500731-2ec3-42c8-8883-9ea02f526fba",
   "metadata": {},
   "outputs": [
    {
     "data": {
      "text/plain": [
       "ID             0\n",
       "Season         0\n",
       "Province       0\n",
       "District       0\n",
       "Date           0\n",
       "Latitude       0\n",
       "Longitude      0\n",
       "Code           0\n",
       "Land           0\n",
       "Description    0\n",
       "Stage          0\n",
       "dtype: int64"
      ]
     },
     "execution_count": 1047,
     "metadata": {},
     "output_type": "execute_result"
    }
   ],
   "source": [
    "agri1.isnull().sum()"
   ]
  },
  {
   "cell_type": "markdown",
   "id": "9385c0d6-6571-4739-8e7e-4c76b308b9b6",
   "metadata": {},
   "source": [
    "#### Now, see there is no missing value in the dataset. I have correctly applied the Random Forest Classifier Algorithum. "
   ]
  },
  {
   "cell_type": "markdown",
   "id": "c65552c0-e987-4f70-84ca-c47fdfa46185",
   "metadata": {},
   "source": [
    "# Summary Statistics"
   ]
  },
  {
   "cell_type": "code",
   "execution_count": 1049,
   "id": "c7fcad49-3d6e-424c-920f-b058e5df16ff",
   "metadata": {},
   "outputs": [
    {
     "data": {
      "text/html": [
       "<div>\n",
       "<style scoped>\n",
       "    .dataframe tbody tr th:only-of-type {\n",
       "        vertical-align: middle;\n",
       "    }\n",
       "\n",
       "    .dataframe tbody tr th {\n",
       "        vertical-align: top;\n",
       "    }\n",
       "\n",
       "    .dataframe thead th {\n",
       "        text-align: right;\n",
       "    }\n",
       "</style>\n",
       "<table border=\"1\" class=\"dataframe\">\n",
       "  <thead>\n",
       "    <tr style=\"text-align: right;\">\n",
       "      <th></th>\n",
       "      <th>count</th>\n",
       "      <th>mean</th>\n",
       "      <th>std</th>\n",
       "      <th>min</th>\n",
       "      <th>25%</th>\n",
       "      <th>50%</th>\n",
       "      <th>75%</th>\n",
       "      <th>max</th>\n",
       "    </tr>\n",
       "  </thead>\n",
       "  <tbody>\n",
       "    <tr>\n",
       "      <th>Season</th>\n",
       "      <td>136822.0</td>\n",
       "      <td>0.320796</td>\n",
       "      <td>0.466784</td>\n",
       "      <td>0.000000</td>\n",
       "      <td>0.000000</td>\n",
       "      <td>0.000000</td>\n",
       "      <td>1.000000</td>\n",
       "      <td>1.000000</td>\n",
       "    </tr>\n",
       "    <tr>\n",
       "      <th>Latitude</th>\n",
       "      <td>136822.0</td>\n",
       "      <td>29.221921</td>\n",
       "      <td>2.773811</td>\n",
       "      <td>24.129792</td>\n",
       "      <td>27.386015</td>\n",
       "      <td>28.673093</td>\n",
       "      <td>31.309931</td>\n",
       "      <td>35.623886</td>\n",
       "    </tr>\n",
       "    <tr>\n",
       "      <th>Longitude</th>\n",
       "      <td>136822.0</td>\n",
       "      <td>70.107234</td>\n",
       "      <td>2.187491</td>\n",
       "      <td>64.758615</td>\n",
       "      <td>68.216775</td>\n",
       "      <td>69.407136</td>\n",
       "      <td>72.032498</td>\n",
       "      <td>74.879176</td>\n",
       "    </tr>\n",
       "    <tr>\n",
       "      <th>Code</th>\n",
       "      <td>136822.0</td>\n",
       "      <td>3.616063</td>\n",
       "      <td>3.509792</td>\n",
       "      <td>1.000000</td>\n",
       "      <td>1.000000</td>\n",
       "      <td>2.000000</td>\n",
       "      <td>6.000000</td>\n",
       "      <td>23.000000</td>\n",
       "    </tr>\n",
       "  </tbody>\n",
       "</table>\n",
       "</div>"
      ],
      "text/plain": [
       "              count       mean       std        min        25%        50%  \\\n",
       "Season     136822.0   0.320796  0.466784   0.000000   0.000000   0.000000   \n",
       "Latitude   136822.0  29.221921  2.773811  24.129792  27.386015  28.673093   \n",
       "Longitude  136822.0  70.107234  2.187491  64.758615  68.216775  69.407136   \n",
       "Code       136822.0   3.616063  3.509792   1.000000   1.000000   2.000000   \n",
       "\n",
       "                 75%        max  \n",
       "Season      1.000000   1.000000  \n",
       "Latitude   31.309931  35.623886  \n",
       "Longitude  72.032498  74.879176  \n",
       "Code        6.000000  23.000000  "
      ]
     },
     "execution_count": 1049,
     "metadata": {},
     "output_type": "execute_result"
    }
   ],
   "source": [
    "agri1.describe().T"
   ]
  },
  {
   "cell_type": "code",
   "execution_count": 1051,
   "id": "a6413386-fe8d-4c6f-9fff-96fee35c0cba",
   "metadata": {},
   "outputs": [
    {
     "data": {
      "text/plain": [
       "Season\n",
       "0    92930\n",
       "1    43892\n",
       "Name: count, dtype: int64"
      ]
     },
     "execution_count": 1051,
     "metadata": {},
     "output_type": "execute_result"
    }
   ],
   "source": [
    "agri1[\"Season\"].value_counts()"
   ]
  },
  {
   "cell_type": "code",
   "execution_count": 1053,
   "id": "cfb33673-f358-487e-ac5f-448d24aa6f19",
   "metadata": {},
   "outputs": [
    {
     "data": {
      "text/plain": [
       "Stage\n",
       "Peak Growth                            73912\n",
       "Reproductive                           24746\n",
       "Sowing                                 15670\n",
       "Mature                                 10872\n",
       "Vegetation                              5683\n",
       "Harvested                               2859\n",
       "Initial                                 1897\n",
       "Other                                    693\n",
       "Ploughing                                255\n",
       "Dont know                               233\n",
       "Vegetative                                 1\n",
       "initial stage with canopy cover 20%        1\n",
       "Name: count, dtype: int64"
      ]
     },
     "execution_count": 1053,
     "metadata": {},
     "output_type": "execute_result"
    }
   ],
   "source": [
    "agri1[\"Stage\"].value_counts()"
   ]
  },
  {
   "cell_type": "code",
   "execution_count": 1055,
   "id": "bd961476-aa21-4a07-a549-6df40c343444",
   "metadata": {},
   "outputs": [
    {
     "data": {
      "text/plain": [
       "Province\n",
       "Punjab                50565\n",
       "Sindh                 46954\n",
       "Balochistan           25440\n",
       "Khyber Pakhtunkhwa    13863\n",
       "Name: count, dtype: int64"
      ]
     },
     "execution_count": 1055,
     "metadata": {},
     "output_type": "execute_result"
    }
   ],
   "source": [
    "agri1[\"Province\"].value_counts()"
   ]
  },
  {
   "cell_type": "markdown",
   "id": "4320c9d7-764c-41de-9ac1-de5c6d845b69",
   "metadata": {},
   "source": [
    "# Data Visualization"
   ]
  },
  {
   "cell_type": "markdown",
   "id": "16a4082a-5a4a-46b5-8545-6483d4e79fb2",
   "metadata": {},
   "source": [
    "### 1️⃣ Distribution of Crop Growth Stages"
   ]
  },
  {
   "cell_type": "code",
   "execution_count": 1057,
   "id": "0154e18c-2480-4acb-bc32-5411aba355e9",
   "metadata": {},
   "outputs": [
    {
     "name": "stderr",
     "output_type": "stream",
     "text": [
      "D:\\ Anacona Navigator\\Lib\\site-packages\\IPython\\core\\pylabtools.py:170: UserWarning: Glyph 146 (\\x92) missing from current font.\n",
      "  fig.canvas.print_figure(bytes_io, **kw)\n"
     ]
    },
    {
     "data": {
      "image/png": "[encoded data removed]",
      "text/plain": [
       "<Figure size 1000x500 with 1 Axes>"
      ]
     },
     "metadata": {},
     "output_type": "display_data"
    }
   ],
   "source": [
    "plt.figure(figsize=(10, 5))\n",
    "sns.countplot(x=agri1[\"Stage\"], order=agri1[\"Stage\"].value_counts().index)\n",
    "plt.xticks(rotation=45)\n",
    "plt.title(\"Distribution of Crop Growth Stages\")\n",
    "plt.show()"
   ]
  },
  {
   "cell_type": "markdown",
   "id": "18fa690e-bf38-493c-8766-5ee843e57827",
   "metadata": {},
   "source": [
    "### 2️⃣ Crop Stages per Season"
   ]
  },
  {
   "cell_type": "code",
   "execution_count": 1061,
   "id": "37d9dafb-4189-48db-9fdb-4f1a21bec1f9",
   "metadata": {},
   "outputs": [
    {
     "name": "stderr",
     "output_type": "stream",
     "text": [
      "D:\\ Anacona Navigator\\Lib\\site-packages\\IPython\\core\\pylabtools.py:170: UserWarning: Glyph 146 (\\x92) missing from current font.\n",
      "  fig.canvas.print_figure(bytes_io, **kw)\n"
     ]
    },
    {
     "data": {
      "image/png": "[encoded data removed]",
      "text/plain": [
       "<Figure size 1000x500 with 1 Axes>"
      ]
     },
     "metadata": {},
     "output_type": "display_data"
    }
   ],
   "source": [
    "plt.figure(figsize=(10, 5))\n",
    "sns.countplot(x=agri1[\"Stage\"], hue=agri1[\"Season\"])\n",
    "plt.xticks(rotation=45)\n",
    "plt.title(\"Crop Growth Stages in Rabi vs. Kharif Season\")\n",
    "plt.show()"
   ]
  },
  {
   "cell_type": "markdown",
   "id": "d33a8972-d5ad-44c5-95d1-06eef6d20f60",
   "metadata": {},
   "source": [
    "### 3️⃣ Geospatial Distribution of Data"
   ]
  },
  {
   "cell_type": "code",
   "execution_count": 1063,
   "id": "1f8543c5-c224-4712-9209-5710f0533945",
   "metadata": {},
   "outputs": [
    {
     "name": "stderr",
     "output_type": "stream",
     "text": [
      "D:\\ Anacona Navigator\\Lib\\site-packages\\IPython\\core\\pylabtools.py:170: UserWarning: Glyph 146 (\\x92) missing from current font.\n",
      "  fig.canvas.print_figure(bytes_io, **kw)\n"
     ]
    },
    {
     "data": {
      "image/png": "[encoded data removed]",
      "text/plain": [
       "<Figure size 800x600 with 1 Axes>"
      ]
     },
     "metadata": {},
     "output_type": "display_data"
    }
   ],
   "source": [
    "plt.figure(figsize=(8, 6))\n",
    "scatter = sns.scatterplot(x=agri1[\"Longitude\"], y=agri1[\"Latitude\"], hue=agri1[\"Stage\"], alpha=0.5)\n",
    "plt.legend(title=\"Crop Stage\", bbox_to_anchor=(1.05, 1), loc='upper left')\n",
    "plt.title(\"Geospatial Distribution of Crop Growth Stages\")\n",
    "plt.show()"
   ]
  },
  {
   "cell_type": "markdown",
   "id": "a08f601e-39cd-4c64-9980-ed3ef8f222dc",
   "metadata": {},
   "source": [
    "### 4️⃣ Growth Stage Trend Over Time\n"
   ]
  },
  {
   "cell_type": "code",
   "execution_count": 1065,
   "id": "8faf8482-e0f6-40ec-a5e3-a75e361f317b",
   "metadata": {},
   "outputs": [
    {
     "name": "stderr",
     "output_type": "stream",
     "text": [
      "C:\\Users\\DELL\\AppData\\Local\\Temp\\ipykernel_10012\\2686741393.py:1: UserWarning: Parsing dates in %d/%m/%Y format when dayfirst=False (the default) was specified. Pass `dayfirst=True` or specify a format to silence this warning.\n",
      "  agri1[\"Date\"] = pd.to_datetime(agri1[\"Date\"])\n"
     ]
    },
    {
     "data": {
      "image/png": "[encoded data removed]",
      "text/plain": [
       "<Figure size 1200x600 with 1 Axes>"
      ]
     },
     "metadata": {},
     "output_type": "display_data"
    }
   ],
   "source": [
    "agri1[\"Date\"] = pd.to_datetime(agri1[\"Date\"])  \n",
    "\n",
    "plt.figure(figsize=(12, 6))\n",
    "agri1.groupby(\"Date\")[\"Stage\"].count().plot()\n",
    "plt.title(\"Crop Growth Stages Over Time\")\n",
    "plt.xlabel(\"Date\")\n",
    "plt.ylabel(\"Count of Observations\")\n",
    "plt.show()"
   ]
  },
  {
   "cell_type": "markdown",
   "id": "faa8940c-6490-43d1-9948-1ff2b7fd18a8",
   "metadata": {},
   "source": [
    "# Preparing Dataset for Applying Temporal Convolutional Networks (TCN) for Crop Growth Stage Prediction"
   ]
  },
  {
   "cell_type": "markdown",
   "id": "ae83fa7e-d1bd-499d-a600-35abfe244040",
   "metadata": {},
   "source": [
    "### Date and Time Formating "
   ]
  },
  {
   "cell_type": "markdown",
   "id": "0b45709a-2912-4a8c-a69f-fec66c199b6f",
   "metadata": {},
   "source": [
    "#### We converting \"Date\" to datetime format so the model can understand time-based patterns properly. Sorting the data chronologically ensures that time-dependent relationships are maintained, which is crucial for time-series models like TCN."
   ]
  },
  {
   "cell_type": "code",
   "execution_count": 1067,
   "id": "5ae9e830-cc33-4acf-a38d-9ecf4bc46c83",
   "metadata": {},
   "outputs": [],
   "source": [
    "agri1[\"Date\"] = pd.to_datetime(agri1[\"Date\"])\n",
    "agri1 = agri1.sort_values(by=\"Date\").reset_index(drop=True)"
   ]
  },
  {
   "cell_type": "code",
   "execution_count": 1069,
   "id": "e9db5bfa-6149-440d-beb8-ced8be4987f5",
   "metadata": {},
   "outputs": [
    {
     "data": {
      "text/html": [
       "<div>\n",
       "<style scoped>\n",
       "    .dataframe tbody tr th:only-of-type {\n",
       "        vertical-align: middle;\n",
       "    }\n",
       "\n",
       "    .dataframe tbody tr th {\n",
       "        vertical-align: top;\n",
       "    }\n",
       "\n",
       "    .dataframe thead th {\n",
       "        text-align: right;\n",
       "    }\n",
       "</style>\n",
       "<table border=\"1\" class=\"dataframe\">\n",
       "  <thead>\n",
       "    <tr style=\"text-align: right;\">\n",
       "      <th></th>\n",
       "      <th>ID</th>\n",
       "      <th>Season</th>\n",
       "      <th>Province</th>\n",
       "      <th>District</th>\n",
       "      <th>Date</th>\n",
       "      <th>Latitude</th>\n",
       "      <th>Longitude</th>\n",
       "      <th>Code</th>\n",
       "      <th>Land</th>\n",
       "      <th>Description</th>\n",
       "      <th>Stage</th>\n",
       "    </tr>\n",
       "  </thead>\n",
       "  <tbody>\n",
       "    <tr>\n",
       "      <th>0</th>\n",
       "      <td>5-515-21-2-01092023-1-3079</td>\n",
       "      <td>0</td>\n",
       "      <td>Sindh</td>\n",
       "      <td>Shaheed Benazir Abad</td>\n",
       "      <td>2023-01-09</td>\n",
       "      <td>26.083522</td>\n",
       "      <td>68.205274</td>\n",
       "      <td>6</td>\n",
       "      <td>Builtup</td>\n",
       "      <td>Builtup</td>\n",
       "      <td>Peak Growth</td>\n",
       "    </tr>\n",
       "    <tr>\n",
       "      <th>1</th>\n",
       "      <td>5-516-23-2-01092023-1-2252</td>\n",
       "      <td>0</td>\n",
       "      <td>Sindh</td>\n",
       "      <td>Shikarpur</td>\n",
       "      <td>2023-01-09</td>\n",
       "      <td>27.911884</td>\n",
       "      <td>68.819260</td>\n",
       "      <td>10</td>\n",
       "      <td>Water</td>\n",
       "      <td>Water</td>\n",
       "      <td>Peak Growth</td>\n",
       "    </tr>\n",
       "    <tr>\n",
       "      <th>2</th>\n",
       "      <td>5-516-23-2-01092023-1-2258</td>\n",
       "      <td>0</td>\n",
       "      <td>Sindh</td>\n",
       "      <td>Shikarpur</td>\n",
       "      <td>2023-01-09</td>\n",
       "      <td>27.933937</td>\n",
       "      <td>68.814032</td>\n",
       "      <td>5</td>\n",
       "      <td>Barrenland</td>\n",
       "      <td>Barren</td>\n",
       "      <td>Peak Growth</td>\n",
       "    </tr>\n",
       "    <tr>\n",
       "      <th>3</th>\n",
       "      <td>5-516-23-2-01092023-1-2259</td>\n",
       "      <td>0</td>\n",
       "      <td>Sindh</td>\n",
       "      <td>Shikarpur</td>\n",
       "      <td>2023-01-09</td>\n",
       "      <td>27.939283</td>\n",
       "      <td>68.810601</td>\n",
       "      <td>5</td>\n",
       "      <td>Barrenland</td>\n",
       "      <td>Barren</td>\n",
       "      <td>Peak Growth</td>\n",
       "    </tr>\n",
       "    <tr>\n",
       "      <th>4</th>\n",
       "      <td>5-516-23-2-01092023-1-2261</td>\n",
       "      <td>0</td>\n",
       "      <td>Sindh</td>\n",
       "      <td>Shikarpur</td>\n",
       "      <td>2023-01-09</td>\n",
       "      <td>27.948056</td>\n",
       "      <td>68.809637</td>\n",
       "      <td>5</td>\n",
       "      <td>Shrub</td>\n",
       "      <td>Shrub</td>\n",
       "      <td>Peak Growth</td>\n",
       "    </tr>\n",
       "  </tbody>\n",
       "</table>\n",
       "</div>"
      ],
      "text/plain": [
       "                           ID  Season Province              District  \\\n",
       "0  5-515-21-2-01092023-1-3079       0    Sindh  Shaheed Benazir Abad   \n",
       "1  5-516-23-2-01092023-1-2252       0    Sindh             Shikarpur   \n",
       "2  5-516-23-2-01092023-1-2258       0    Sindh             Shikarpur   \n",
       "3  5-516-23-2-01092023-1-2259       0    Sindh             Shikarpur   \n",
       "4  5-516-23-2-01092023-1-2261       0    Sindh             Shikarpur   \n",
       "\n",
       "        Date   Latitude  Longitude  Code        Land Description         Stage  \n",
       "0 2023-01-09  26.083522  68.205274     6     Builtup     Builtup  Peak Growth   \n",
       "1 2023-01-09  27.911884  68.819260    10       Water       Water  Peak Growth   \n",
       "2 2023-01-09  27.933937  68.814032     5  Barrenland      Barren  Peak Growth   \n",
       "3 2023-01-09  27.939283  68.810601     5  Barrenland      Barren  Peak Growth   \n",
       "4 2023-01-09  27.948056  68.809637     5       Shrub       Shrub  Peak Growth   "
      ]
     },
     "execution_count": 1069,
     "metadata": {},
     "output_type": "execute_result"
    }
   ],
   "source": [
    "agri1.head()"
   ]
  },
  {
   "cell_type": "markdown",
   "id": "8cf17a65-74fa-45a1-99ba-257474aae119",
   "metadata": {},
   "source": [
    "# Checking Unique Values in Categorical Data Columns"
   ]
  },
  {
   "cell_type": "code",
   "execution_count": 1071,
   "id": "3bd89d50-d92d-4917-b074-3b6a4e7056b9",
   "metadata": {},
   "outputs": [],
   "source": [
    "def uni_values(column_name):\n",
    "    return agri1[column_name].unique()"
   ]
  },
  {
   "cell_type": "code",
   "execution_count": 1073,
   "id": "ff7f4d51-0f50-42ae-950b-ecdb13159c94",
   "metadata": {},
   "outputs": [
    {
     "data": {
      "text/plain": [
       "array(['Sindh', 'Punjab', 'Khyber Pakhtunkhwa', 'Balochistan'],\n",
       "      dtype=object)"
      ]
     },
     "execution_count": 1073,
     "metadata": {},
     "output_type": "execute_result"
    }
   ],
   "source": [
    "uni_values('Province')"
   ]
  },
  {
   "cell_type": "code",
   "execution_count": 1075,
   "id": "9e0e77d9-0156-4b48-a25f-c125801142b3",
   "metadata": {},
   "outputs": [
    {
     "data": {
      "text/plain": [
       "array(['Shaheed Benazir Abad', 'Shikarpur', 'Mianwali', 'Rahim Yar Khan',\n",
       "       'Sujawal', 'Hafizabad', 'Swat', 'Mardan', 'Badin', 'Sohbatpur',\n",
       "       'Khuzdar', 'Toba Tek Singh', 'Charsadda', 'Jhal Magsi',\n",
       "       'Upper Dir', 'Kharan', 'Nowshera', 'Gujranwala', 'Sanghar',\n",
       "       'Rajanpur', 'Kohat', 'Multan', 'Swabi', 'Sialkot', 'Kachhi',\n",
       "       'Lodhran', 'Sibi', 'Larkana', 'Tando Mohammad Khan', 'Shahdadkot',\n",
       "       'Jacobabad', 'Khanewal', 'Okara', 'Khushab', 'Chakwal', 'Jhang',\n",
       "       'Sahiwal', 'Lower Dir', 'Malakand', 'Jaffarabad', 'Mirpur Khas',\n",
       "       'Umerkot', 'Nasirabad', 'Peshawar', 'Ghotki', 'Vehari',\n",
       "       'Bahawalpur', 'Bhakkar', 'Buner', 'Chiniot', 'Sargodha',\n",
       "       'Khairpur', 'Muzaffargarh', 'Haripur', 'Kashmore', 'Bahawalnagar',\n",
       "       'Layyah', 'Attock', 'Dadu', 'Thatta', 'Dera Bugti', 'Lasbela',\n",
       "       'Mansehra', 'Faisalabad', 'Barkhan', 'Malir', 'Jamshoro',\n",
       "       'Dera Ghazi Khan', 'Dera Ismail Khan', 'FR Kohat',\n",
       "       'Naushahro Feroze', 'Abbottabad', 'Hyderabad', 'Kasur',\n",
       "       'Tando Allahyar', 'Matiari', 'Sukkur', 'Tharparkar', 'Pakpattan',\n",
       "       'Nankana Sahib', 'Karachi West', 'Sheikhupura', 'Gujrat'],\n",
       "      dtype=object)"
      ]
     },
     "execution_count": 1075,
     "metadata": {},
     "output_type": "execute_result"
    }
   ],
   "source": [
    "uni_values('District')"
   ]
  },
  {
   "cell_type": "code",
   "execution_count": 1077,
   "id": "018b44b7-96ed-4278-b453-e487f5df8c75",
   "metadata": {},
   "outputs": [
    {
     "data": {
      "text/plain": [
       "array(['Builtup', 'Water', 'Barrenland', 'Shrub', 'Orchard', 'Fallowland',\n",
       "       'Grassland', 'Forest', 'Cropland', 'Shrubs'], dtype=object)"
      ]
     },
     "execution_count": 1077,
     "metadata": {},
     "output_type": "execute_result"
    }
   ],
   "source": [
    "uni_values('Land')"
   ]
  },
  {
   "cell_type": "code",
   "execution_count": 1079,
   "id": "70a0bb92-b0ec-4e05-8fcf-fe9588e4e0cc",
   "metadata": {},
   "outputs": [
    {
     "data": {
      "text/plain": [
       "array(['Builtup', 'Water', 'Barren', 'Shrub', 'Mango', 'Dates',\n",
       "       'Fallow (Agriculture)', 'Grassland', 'Lemon', 'FALSA', 'Guava',\n",
       "       'Forest', 'FLOOD WATER', 'Apple', 'Peach', 'RIVER BED',\n",
       "       'Graveyard', 'PLUM & LOQUAT', 'Plum', 'Eucalyptus', 'MAIZE & PLUM',\n",
       "       'PERSIMMON', 'Pomegranate', 'Orange (Citrus)', 'Banana', 'Rice',\n",
       "       'Cotton', 'Sugarcane', 'Maize (Corn)', 'Millet', 'Pigeon Pea',\n",
       "       'Sorghum', 'FODDER', 'YAM', 'PEAR & RICE', 'Onion', 'Chillies',\n",
       "       'Jantar', 'Guarseed', 'Sesame (Til)', 'MAIZE FODDER', 'Mong bean',\n",
       "       'LOQUAT AND PEACH', 'LYCHEE', 'PLUM AND MAIZE', 'Mountain',\n",
       "       'Apricot', 'MOTT GRASS', 'RHODES GRASS', 'Cow pea',\n",
       "       'SUGARCANE & MAZE', 'Euclyptus', 'MAIZE AND PEACH', 'Bitter Gourd',\n",
       "       'Bottle Gourd', 'Loquat', 'NATURAL VEGETATION', 'Pear',\n",
       "       'PEACH & MAZE', 'GUAVA & PASIMON', 'MANGO & PLUM', 'MUD HILL',\n",
       "       'Jujube', 'Spinach', 'NAPIER GRASS (FODDER)', 'Ridge gourd',\n",
       "       'Ground nuts/Peanuts', 'Ginger', 'MAZIE AND PLUM8', 'Cauliflower',\n",
       "       'Brinjal', 'MAIZE AND PLUMB', 'Okra', 'Mash', 'MAZE & PEACH',\n",
       "       'Barseem', 'Rapeseed Mustard', 'Wheat', 'Garlic', 'Tomato',\n",
       "       'Tobacco', 'Mix Barseem Rapeseed Mustard', 'Fallowland',\n",
       "       'Bittergourd', 'Barley', 'Turnip', 'Maize', 'Lady Finger', 'Peas',\n",
       "       'Carrot', 'Mott Grass', 'Strawberry', 'Barrenland', 'Grapes',\n",
       "       'Lychee', 'Chakotra', 'Potato', 'Fodder', 'Wild Vegetation', 'Oat',\n",
       "       'Alfalfa', 'Rhode Grass', 'Falsa', 'Lentil',\n",
       "       'Mix Rapeseed Mustard Wheat', 'Citrus',\n",
       "       'Mix Linseed Rapeseed Mustard', 'Mix Garlic Melon', 'Euclayptus',\n",
       "       'Vegetable', 'Cotton Stalk Residues', 'Melon', 'Pumpkin',\n",
       "       'Linseed', 'Sunflower', 'Coriander', 'Mix Rapeseed Mustard Wheat ',\n",
       "       'Chickpea', 'Mix Alfalfa Rapeseed Mustard', 'Mix Barseem Wheat',\n",
       "       'Mix Barely Rapeseed Mustard', 'Mix Barley Rapeseed Mustard',\n",
       "       'Mix Rapeseed Mustard Linseed', 'Spongegourd',\n",
       "       'Mix Mango Rapeseed Mustard Wheat', 'Mix Orchard Wheat',\n",
       "       'Mix Onion Tomato', 'Mix Melon Onion', 'Chikoo', 'Mix Mango Wheat',\n",
       "       'Mix Barley Other', 'Mix Apricot Plum',\n",
       "       'Mix Rapeseed Mustard Tomato', 'Tubewell', 'Fennel',\n",
       "       'Mix Onion Spongegourd', 'Mix Tomato Wheat', 'Fenugreek',\n",
       "       'Cabbage', 'fenugreek', 'Mix Citrus Wheat', 'Ajwain',\n",
       "       'Mix Onion Tamato', 'Cucumber', 'Mix Cucumber Onion', 'Watermelon',\n",
       "       'Mix Chickpea Rapeseed Mustard', 'Mix Cauliflower Onion Tomato',\n",
       "       'Mix Other Wheat', 'Mix Apricot Wheat', 'Mix Peach Wheat', 'Rose',\n",
       "       'Mix Dates Mango', 'Datepalm', 'Applegourd',\n",
       "       'Mix Fodder Rapeseed Mustard', 'Sesame', 'Sugarbeet',\n",
       "       'Mix Barseen Rapeseed Mustard', 'Mix Barseem Mango',\n",
       "       'Mix Barseem Mango Wheat', 'Mix Rapeseed Mustard Sugarcane',\n",
       "       'Mix Sugarcane Wheat', 'GUAR AND SORGUM', 'SORGUM AND SEASUM',\n",
       "       'Berseem', 'LICHI & MAZE', 'Mix COTTON,DATE,95%,5%',\n",
       "       'SHORGHAM AND TILL', 'SHORGHAM AND SEASAMAM TIL',\n",
       "       'Mix COTTON 80% LEMON 20%', 'Mix COTTON 90% MANGO 10%', 'Pea',\n",
       "       'LICHI AND SUFAIDAR', 'MAIZE PEACH', 'PUMPKIN',\n",
       "       'Mix Strawberry Wheat', 'Mix Onion Wheat', 'Mix Peas Wheat',\n",
       "       'BARSATI NALA', 'PLUM AND LOQAT', 'PEACH AND MAIZE',\n",
       "       'LOQUAT AND MAIZE', 'LOQUAT & MAZE', 'PEACH & LOQUAT',\n",
       "       'PEACH & MAZW', 'GUAVA & MAZE', 'LOQUAT & PEACH', 'Bamboo',\n",
       "       'Mix Barseem Guava', 'Mix Barseem Guava ', 'Papaya',\n",
       "       'BARSATI NAALA', 'CITRUS AND MANGO', 'DATE,LEMON,50%,50%', 'Olive',\n",
       "       'Mix Peach Plum', 'Persimmon', 'Mix Forest Wheat',\n",
       "       'Mix Barrenland Forest', 'Mix Chikoo Mango',\n",
       "       'Mix Lemon Rapeseed Mustard', 'wheat', 'Orchard',\n",
       "       'Mix Citrus Grassland', 'Mix Grass Rapeseed Mustard',\n",
       "       'Mix Barseem Citrus', 'Lotus', 'Castorbean', 'Mix Sunflower Wheat',\n",
       "       'Mix Fenugreek Rapeseed Mustard', 'Mix Chillies Garlic',\n",
       "       'Mix Peach Pear Plum', 'Mix Citrus Mango', 'Mix Barseem Orchard',\n",
       "       'Mix Rapeseed Wheat', 'Mix Apple Wheat', 'Mix Onion Peach',\n",
       "       'Mix Dates Wheat', 'Mix Dates Barseem', 'Mix Banana Wheat',\n",
       "       'Mix Barseem Dates Wheat', 'Mix Barseem Dates', 'Mungbean',\n",
       "       'Mix Alfalfa Sugarcane', 'Mix Fodder Wheat',\n",
       "       'Mix Dates Sugarcane Wheat', 'Mix Forest Grassland', 'Taro',\n",
       "       'Mix Alfalfa Dates', 'LEMON 40% COTTON 60%', 'PAPAYA',\n",
       "       'DATES 60% RICE 40%', 'Kidney bean', 'PLUM & MAZE', 'FISH FARM',\n",
       "       'Sweet potato', 'FIG TREE', 'Mix DATES,RICE,60%,40%', 'Coconut',\n",
       "       'Sapodila (Chikko)', 'MANGO 50% DATES 50%', 'MANGO 50%DATES 50%',\n",
       "       'GRASSLAND 70% DATES 30%', 'DATES 40% JANTAR 60%',\n",
       "       'GRASSLAND 60% DATES 40%', 'WILD OLIVE', 'PERSIMMON WITH MAZIE',\n",
       "       'MANGO,DATE,70%,30%', 'MANGO,GRASS,90%,10%', 'DATE,GUAVA,50%,50%',\n",
       "       'ROSE FLOWER', 'MANGO,DATE,60%,40%', 'MANGO,GRASS,30%,70%',\n",
       "       'GUARSEED FODDER', 'RICE 85 % DATES 15%', 'RICE 60% DATES 40%',\n",
       "       'MONGO 10% COTTON 90%', 'SORGHUM 60% DATES 40%',\n",
       "       'RICE,DATE,60%,40%', 'RICE,DATE,80%,20%', 'RICE 60% GUAVA 40%',\n",
       "       'LOBIA BEANS', 'HENNA', 'SEASAM,MANGO,70%,30%',\n",
       "       'MANGO 40% JANTAR 60%', 'MANGO 30% JANTAR 70%',\n",
       "       'MANGO,CITRUS,40%,60%', 'MANGO 50% CITRUS 50%',\n",
       "       'MANGO 60% CITRUS 40%', 'Raddish', 'Black Fennel', 'BAMBOO',\n",
       "       'Alfalfa (Lucerne)', 'Mix COTTON 50% LEMON 50%', 'Lotus root',\n",
       "       'Weeds', 'JASMINE', 'Mix COTTON 70% LEMON 30%',\n",
       "       'Mix COTTON  60% LEMON 40%', 'Mix COTTON 60% LEMON 40%',\n",
       "       'MANGO,SEASAM,40%,60%', 'LEMON,COTTON,50%,50%',\n",
       "       'Mix COTTON,LEMON,60%,50%', 'LEMON,COTTON,50%,60%',\n",
       "       'Mix COTTON,LEMON,50%,50%', 'Bottle gourd', 'Lady finger',\n",
       "       'CITRUS AND SORGHUM (60-40)', 'CITRUS, MANGO AND DATES (50:35:15',\n",
       "       'FALSA AND MANGO 50-50', 'TURMERIC', 'Taro root', 'Turmeric',\n",
       "       'Mint', 'CITRUS AND TILL  INTERCROP (25:75 %) TILL  HARVEST',\n",
       "       'INTER CROP COTTON AND CITRUS 80:20', 'MIX ORCHARD',\n",
       "       'GUAVA , SORGHUM', 'APPLE GRASS', 'FODDER KIRING', 'WILD TREES',\n",
       "       'PAPAYA,MANGO,90%,10%', 'CRICKET GROUND', 'PLUM AND MAIZE (50/50)',\n",
       "       'PLUM AND MAIZE (60/40)', 'APPLE CHILLI', 'APPLE CHILLY',\n",
       "       'APPLE AND GRASS', 'APPLE aND MASH', 'BANANA', 'MUNG SORGUM',\n",
       "       'SORGUM MUNG GRASS', 'MUNG SORGUM GRASS', 'MUMG SORGUM GRASS',\n",
       "       'POTATO AND APPLE', 'MUMG SORGUM', 'SORGUM AND GRASS',\n",
       "       'MASH SORGUM GRASS', 'MASH AND SORGUM', 'MONG AND SHORGAM',\n",
       "       'MASH AND JAWAR', 'MONG AND SHORGHAM', 'OKRA', 'Marigold Flower',\n",
       "       'Maize,Mango 60%,40%', 'Mix COTTON,MANGO,90%,10%',\n",
       "       'BANANA,MANGO,90%,10%', 'BANANA,MANGO,95%,5%',\n",
       "       'MANGO, % GRASS 95%', 'MANGO AND MAIZE (24:75%)',\n",
       "       'PLUM AND SUGARCANE', 'PLUM AND SUGARCAN', 'PLUM AND BRINJAL',\n",
       "       'MANGO,GRASS,5%,95%', 'BARREN,SHRUB,30%,70%', 'APRICOT AND MAIZE',\n",
       "       'CITRUS AND SEASAM', 'MIX VEGETABLES',\n",
       "       'MIXED CITRUS VARITIES FEW PLANTS OF GUAVA AND WEED', 'BanaNa',\n",
       "       'MANGO 40% CATTON 60%', 'BANANA 40% AND CHILLIS 60%',\n",
       "       'Jinber Khashak', 'LACHI+BARREN+WATER', 'HARDAL',\n",
       "       'Mix COTTON 60% MANGO 40%', 'Mix COTTON  65% JANTAR 5% BANANA 35%',\n",
       "       'FODDER INITIAL(POOR)', 'Mix COTTON AND MAIZE (AT SOWING)90:10',\n",
       "       'Mix COTTON,BANANA,80%,20%', 'Mix COTTON,BANANA,70%,30%', 'GRASS',\n",
       "       'CITRUS, MANGO AND MILLET MIX', 'GRAPES', 'OLIVE', 'GRASS Fodder',\n",
       "       'Mix CHILLIES 80% BANANA 20%', 'MAIZE 50% LEMON 50%',\n",
       "       'Mix BANANAS 40% and ONION 60%', 'Mix COTTON 60% BANANA 40%',\n",
       "       'WATER POND', 'CANAL', 'ROAD TREE', 'TREES', 'MANGO,GRASS,50%,50%',\n",
       "       'ONION,BANANA,60%,40%', 'MAIZE,MANGO,90%,10%',\n",
       "       'Mix COTTON,MANGO,95%,5%', 'Bitter gourd', 'VEGETABLE', 'Jasmine',\n",
       "       'SORGHUM,MANGO,95%,5%', 'MIX ORCHARD AND MAIZE',\n",
       "       'LEMON WITH MAIZE', 'JAJUBA,COTTON,60%,40%', 'ONION,MANGO,95%,5%',\n",
       "       'Mix COTTON,MANGO,80%,20%', 'BANANA & DATES', 'GRID STATION',\n",
       "       'LAKE', 'GUAVA  AND SORGHUM 50,50', 'GUAVA, LADY FINGER (30,70)',\n",
       "       'ORCHARD & MAIZE', 'IMLI', 'GUARSEED AND SORGUM', 'Cordamom',\n",
       "       'MAMGO 30% ONION 70%', 'ORANG TREE AND MAIZE', 'YAM& LOQUAT',\n",
       "       'LOQUAT MAIZE', 'Apple gourd', 'Ground', 'Guarseed Fodder',\n",
       "       'Egg plant', 'NIPPEAR GRASS  MIXED WITH SORGHUM (15:85)',\n",
       "       'MIXED FODDER'], dtype=object)"
      ]
     },
     "execution_count": 1079,
     "metadata": {},
     "output_type": "execute_result"
    }
   ],
   "source": [
    "uni_values('Description')"
   ]
  },
  {
   "cell_type": "code",
   "execution_count": 1081,
   "id": "2ced5264-0bac-4038-9ce0-a7e9aa93c65f",
   "metadata": {},
   "outputs": [
    {
     "data": {
      "text/plain": [
       "array(['Peak Growth ', 'Sowing', 'Harvested', 'Don\\x92t know',\n",
       "       'Ploughing', 'Reproductive', 'Vegetation', 'Mature', 'Initial',\n",
       "       'Other', 'Vegetative', 'initial stage with canopy cover 20%'],\n",
       "      dtype=object)"
      ]
     },
     "execution_count": 1081,
     "metadata": {},
     "output_type": "execute_result"
    }
   ],
   "source": [
    "uni_values('Stage')"
   ]
  },
  {
   "cell_type": "markdown",
   "id": "574955b1-2379-4e04-8ac5-2b88c8394061",
   "metadata": {},
   "source": [
    "###  Convert 'Stage' into Ordinal Categories (Because it has Natural Order)"
   ]
  },
  {
   "cell_type": "code",
   "execution_count": 1083,
   "id": "686edff8-4718-49e8-a8f9-b622bb6b887b",
   "metadata": {},
   "outputs": [
    {
     "name": "stdout",
     "output_type": "stream",
     "text": [
      "Final unique values in Stage: [ 5  8  1  0  6  7  9  3  2  4 10 11]\n"
     ]
    }
   ],
   "source": [
    "# Convert Stage to category type\n",
    "agri1['Stage'] = agri1['Stage'].astype('category')\n",
    "\n",
    "# Convert categories to numerical codes\n",
    "agri1['Stage'] = agri1['Stage'].cat.codes\n",
    "\n",
    "# Final check\n",
    "print(\"Final unique values in Stage:\", agri1['Stage'].unique())"
   ]
  },
  {
   "cell_type": "markdown",
   "id": "f33dbe7c-7f21-4852-b564-9bfd7b432781",
   "metadata": {},
   "source": [
    "# Importing few more necessary libraries"
   ]
  },
  {
   "cell_type": "code",
   "execution_count": 1085,
   "id": "1ca4006c-8bf4-4ea2-a038-04df8bc9e54a",
   "metadata": {},
   "outputs": [],
   "source": [
    "import pandas as pd\n",
    "import numpy as np\n",
    "from collections import Counter\n",
    "from sklearn.model_selection import train_test_split\n",
    "from tensorflow.keras.models import Sequential\n",
    "from tensorflow.keras.layers import Conv1D, BatchNormalization, Flatten, Dense"
   ]
  },
  {
   "cell_type": "code",
   "execution_count": 1087,
   "id": "dfdd4854-a08b-4e12-873d-3cdb7245ee35",
   "metadata": {},
   "outputs": [
    {
     "data": {
      "text/html": [
       "<div>\n",
       "<style scoped>\n",
       "    .dataframe tbody tr th:only-of-type {\n",
       "        vertical-align: middle;\n",
       "    }\n",
       "\n",
       "    .dataframe tbody tr th {\n",
       "        vertical-align: top;\n",
       "    }\n",
       "\n",
       "    .dataframe thead th {\n",
       "        text-align: right;\n",
       "    }\n",
       "</style>\n",
       "<table border=\"1\" class=\"dataframe\">\n",
       "  <thead>\n",
       "    <tr style=\"text-align: right;\">\n",
       "      <th></th>\n",
       "      <th>ID</th>\n",
       "      <th>Season</th>\n",
       "      <th>Province</th>\n",
       "      <th>District</th>\n",
       "      <th>Date</th>\n",
       "      <th>Latitude</th>\n",
       "      <th>Longitude</th>\n",
       "      <th>Code</th>\n",
       "      <th>Land</th>\n",
       "      <th>Description</th>\n",
       "      <th>Stage</th>\n",
       "    </tr>\n",
       "  </thead>\n",
       "  <tbody>\n",
       "    <tr>\n",
       "      <th>0</th>\n",
       "      <td>5-515-21-2-01092023-1-3079</td>\n",
       "      <td>0</td>\n",
       "      <td>Sindh</td>\n",
       "      <td>Shaheed Benazir Abad</td>\n",
       "      <td>2023-01-09</td>\n",
       "      <td>26.083522</td>\n",
       "      <td>68.205274</td>\n",
       "      <td>6</td>\n",
       "      <td>Builtup</td>\n",
       "      <td>Builtup</td>\n",
       "      <td>5</td>\n",
       "    </tr>\n",
       "    <tr>\n",
       "      <th>1</th>\n",
       "      <td>5-516-23-2-01092023-1-2252</td>\n",
       "      <td>0</td>\n",
       "      <td>Sindh</td>\n",
       "      <td>Shikarpur</td>\n",
       "      <td>2023-01-09</td>\n",
       "      <td>27.911884</td>\n",
       "      <td>68.819260</td>\n",
       "      <td>10</td>\n",
       "      <td>Water</td>\n",
       "      <td>Water</td>\n",
       "      <td>5</td>\n",
       "    </tr>\n",
       "    <tr>\n",
       "      <th>2</th>\n",
       "      <td>5-516-23-2-01092023-1-2258</td>\n",
       "      <td>0</td>\n",
       "      <td>Sindh</td>\n",
       "      <td>Shikarpur</td>\n",
       "      <td>2023-01-09</td>\n",
       "      <td>27.933937</td>\n",
       "      <td>68.814032</td>\n",
       "      <td>5</td>\n",
       "      <td>Barrenland</td>\n",
       "      <td>Barren</td>\n",
       "      <td>5</td>\n",
       "    </tr>\n",
       "    <tr>\n",
       "      <th>3</th>\n",
       "      <td>5-516-23-2-01092023-1-2259</td>\n",
       "      <td>0</td>\n",
       "      <td>Sindh</td>\n",
       "      <td>Shikarpur</td>\n",
       "      <td>2023-01-09</td>\n",
       "      <td>27.939283</td>\n",
       "      <td>68.810601</td>\n",
       "      <td>5</td>\n",
       "      <td>Barrenland</td>\n",
       "      <td>Barren</td>\n",
       "      <td>5</td>\n",
       "    </tr>\n",
       "    <tr>\n",
       "      <th>4</th>\n",
       "      <td>5-516-23-2-01092023-1-2261</td>\n",
       "      <td>0</td>\n",
       "      <td>Sindh</td>\n",
       "      <td>Shikarpur</td>\n",
       "      <td>2023-01-09</td>\n",
       "      <td>27.948056</td>\n",
       "      <td>68.809637</td>\n",
       "      <td>5</td>\n",
       "      <td>Shrub</td>\n",
       "      <td>Shrub</td>\n",
       "      <td>5</td>\n",
       "    </tr>\n",
       "  </tbody>\n",
       "</table>\n",
       "</div>"
      ],
      "text/plain": [
       "                           ID  Season Province              District  \\\n",
       "0  5-515-21-2-01092023-1-3079       0    Sindh  Shaheed Benazir Abad   \n",
       "1  5-516-23-2-01092023-1-2252       0    Sindh             Shikarpur   \n",
       "2  5-516-23-2-01092023-1-2258       0    Sindh             Shikarpur   \n",
       "3  5-516-23-2-01092023-1-2259       0    Sindh             Shikarpur   \n",
       "4  5-516-23-2-01092023-1-2261       0    Sindh             Shikarpur   \n",
       "\n",
       "        Date   Latitude  Longitude  Code        Land Description  Stage  \n",
       "0 2023-01-09  26.083522  68.205274     6     Builtup     Builtup      5  \n",
       "1 2023-01-09  27.911884  68.819260    10       Water       Water      5  \n",
       "2 2023-01-09  27.933937  68.814032     5  Barrenland      Barren      5  \n",
       "3 2023-01-09  27.939283  68.810601     5  Barrenland      Barren      5  \n",
       "4 2023-01-09  27.948056  68.809637     5       Shrub       Shrub      5  "
      ]
     },
     "execution_count": 1087,
     "metadata": {},
     "output_type": "execute_result"
    }
   ],
   "source": [
    "agri1.head()"
   ]
  },
  {
   "cell_type": "code",
   "execution_count": 1089,
   "id": "867afc5b-b9e2-4fb5-b7ef-1ee9267b3c38",
   "metadata": {},
   "outputs": [],
   "source": [
    "from sklearn.model_selection import KFold\n",
    "\n",
    "def target_encode_multiple(df, cat_columns, target_column, n_splits=5):\n",
    "    kf = KFold(n_splits=n_splits, shuffle=True, random_state=42)\n",
    "    for cat_column in cat_columns:\n",
    "        df[cat_column] = df[cat_column].astype(str).str.strip()  \n",
    "        df[cat_column + \"_Encoded\"] = 0.0  \n",
    "        for train_idx, val_idx in kf.split(df):\n",
    "            train_fold = df.iloc[train_idx]\n",
    "            val_fold = df.iloc[val_idx]\n",
    "            means = train_fold.groupby(cat_column)[target_column].mean()\n",
    "            df.loc[val_idx, cat_column + \"_Encoded\"] = df.loc[val_idx, cat_column].map(means)\n",
    "\n",
    "        global_means = df.groupby(cat_column)[target_column].mean()\n",
    "        df.loc[:, cat_column + \"_Encoded\"] = df[cat_column].map(global_means)  \n",
    "\n",
    "    return df\n",
    "\n",
    "categorical_columns = ['District', 'Land', 'Description']  \n",
    "agri1 = target_encode_multiple(agri1, categorical_columns, 'Stage')"
   ]
  },
  {
   "cell_type": "code",
   "execution_count": 1091,
   "id": "24311363-b918-4f0d-b36e-deb129de382a",
   "metadata": {},
   "outputs": [],
   "source": [
    "from sklearn.preprocessing import LabelEncoder\n",
    "label_encoder = LabelEncoder()\n",
    "agri1['Province'] = label_encoder.fit_transform(agri1['Province'])"
   ]
  },
  {
   "cell_type": "code",
   "execution_count": 1093,
   "id": "b536727b-e3a3-4bfd-b797-625276e9a1e6",
   "metadata": {},
   "outputs": [
    {
     "data": {
      "text/plain": [
       "Index(['ID', 'Season', 'Province', 'District', 'Date', 'Latitude', 'Longitude',\n",
       "       'Code', 'Land', 'Description', 'Stage'],\n",
       "      dtype='object')"
      ]
     },
     "execution_count": 1093,
     "metadata": {},
     "output_type": "execute_result"
    }
   ],
   "source": [
    "agri.columns"
   ]
  },
  {
   "cell_type": "code",
   "execution_count": 1095,
   "id": "3e45d9ea-b0ff-413f-8392-50be69d93e8f",
   "metadata": {},
   "outputs": [
    {
     "data": {
      "text/plain": [
       "Index(['ID', 'Season', 'Province', 'District', 'Date', 'Latitude', 'Longitude',\n",
       "       'Code', 'Land', 'Description', 'Stage', 'District_Encoded',\n",
       "       'Land_Encoded', 'Description_Encoded'],\n",
       "      dtype='object')"
      ]
     },
     "execution_count": 1095,
     "metadata": {},
     "output_type": "execute_result"
    }
   ],
   "source": [
    "agri1.columns"
   ]
  },
  {
   "cell_type": "markdown",
   "id": "731270f7-f9d1-4629-b826-ee785939d857",
   "metadata": {},
   "source": [
    "# Retaining the Encoded Columns"
   ]
  },
  {
   "cell_type": "code",
   "execution_count": 1097,
   "id": "4a66686d-5a50-4d90-a580-8f597019ab17",
   "metadata": {},
   "outputs": [],
   "source": [
    "Encoded_agri1 = agri1"
   ]
  },
  {
   "cell_type": "markdown",
   "id": "bb66d084-6f23-40cc-b86b-93f978135138",
   "metadata": {},
   "source": [
    "# Removing Unnecessary Columns "
   ]
  },
  {
   "cell_type": "code",
   "execution_count": 1099,
   "id": "157e7e48-d453-4532-9630-1dada14049a2",
   "metadata": {},
   "outputs": [
    {
     "data": {
      "text/html": [
       "<div>\n",
       "<style scoped>\n",
       "    .dataframe tbody tr th:only-of-type {\n",
       "        vertical-align: middle;\n",
       "    }\n",
       "\n",
       "    .dataframe tbody tr th {\n",
       "        vertical-align: top;\n",
       "    }\n",
       "\n",
       "    .dataframe thead th {\n",
       "        text-align: right;\n",
       "    }\n",
       "</style>\n",
       "<table border=\"1\" class=\"dataframe\">\n",
       "  <thead>\n",
       "    <tr style=\"text-align: right;\">\n",
       "      <th></th>\n",
       "      <th>ID</th>\n",
       "      <th>Season</th>\n",
       "      <th>Province</th>\n",
       "      <th>District</th>\n",
       "      <th>Date</th>\n",
       "      <th>Latitude</th>\n",
       "      <th>Longitude</th>\n",
       "      <th>Code</th>\n",
       "      <th>Land</th>\n",
       "      <th>Description</th>\n",
       "      <th>Stage</th>\n",
       "      <th>District_Encoded</th>\n",
       "      <th>Land_Encoded</th>\n",
       "      <th>Description_Encoded</th>\n",
       "    </tr>\n",
       "  </thead>\n",
       "  <tbody>\n",
       "    <tr>\n",
       "      <th>0</th>\n",
       "      <td>5-515-21-2-01092023-1-3079</td>\n",
       "      <td>0</td>\n",
       "      <td>3</td>\n",
       "      <td>Shaheed Benazir Abad</td>\n",
       "      <td>2023-01-09</td>\n",
       "      <td>26.083522</td>\n",
       "      <td>68.205274</td>\n",
       "      <td>6</td>\n",
       "      <td>Builtup</td>\n",
       "      <td>Builtup</td>\n",
       "      <td>5</td>\n",
       "      <td>5.017601</td>\n",
       "      <td>5.535951</td>\n",
       "      <td>5.536242</td>\n",
       "    </tr>\n",
       "  </tbody>\n",
       "</table>\n",
       "</div>"
      ],
      "text/plain": [
       "                           ID  Season  Province              District  \\\n",
       "0  5-515-21-2-01092023-1-3079       0         3  Shaheed Benazir Abad   \n",
       "\n",
       "        Date   Latitude  Longitude  Code     Land Description  Stage  \\\n",
       "0 2023-01-09  26.083522  68.205274     6  Builtup     Builtup      5   \n",
       "\n",
       "   District_Encoded  Land_Encoded  Description_Encoded  \n",
       "0          5.017601      5.535951             5.536242  "
      ]
     },
     "execution_count": 1099,
     "metadata": {},
     "output_type": "execute_result"
    }
   ],
   "source": [
    "agri1.head(1)"
   ]
  },
  {
   "cell_type": "code",
   "execution_count": 1101,
   "id": "e401fe85-ff79-416b-815e-0a2d7e6731e4",
   "metadata": {},
   "outputs": [
    {
     "data": {
      "text/plain": [
       "Index(['ID', 'Season', 'Province', 'District', 'Date', 'Latitude', 'Longitude',\n",
       "       'Code', 'Land', 'Description', 'Stage', 'District_Encoded',\n",
       "       'Land_Encoded', 'Description_Encoded'],\n",
       "      dtype='object')"
      ]
     },
     "execution_count": 1101,
     "metadata": {},
     "output_type": "execute_result"
    }
   ],
   "source": [
    "agri1.columns"
   ]
  },
  {
   "cell_type": "code",
   "execution_count": 1103,
   "id": "0c94784a-240e-487b-af29-d9c529da9121",
   "metadata": {},
   "outputs": [
    {
     "name": "stdout",
     "output_type": "stream",
     "text": [
      "Final Columns: ['Season', 'Province', 'Date', 'Latitude', 'Longitude', 'Land', 'Stage', 'District_Encoded', 'Land_Encoded', 'Description_Encoded']\n"
     ]
    }
   ],
   "source": [
    "columns_to_drop = ['ID','District','Code','Description\\t', 'Description'] \n",
    "agri1 = agri1.drop(columns=columns_to_drop, errors='ignore')\n",
    "print(\"Final Columns:\", agri1.columns.tolist())"
   ]
  },
  {
   "cell_type": "code",
   "execution_count": 1105,
   "id": "d928b85c-d9f9-4888-b9d3-c055bb9d351b",
   "metadata": {},
   "outputs": [],
   "source": [
    "columns_to_drop = ['Land'] \n",
    "agri1 = agri1.drop(columns=columns_to_drop, errors='ignore')"
   ]
  },
  {
   "cell_type": "markdown",
   "id": "4d44f280-9635-4d2e-8ea3-b2b0b42617b6",
   "metadata": {},
   "source": [
    "# Data having Latitude, Longitude"
   ]
  },
  {
   "cell_type": "code",
   "execution_count": 1107,
   "id": "5f8f4e99-5902-4fe8-b3da-0243553b3edd",
   "metadata": {},
   "outputs": [],
   "source": [
    "agri1_L_L = agri1 "
   ]
  },
  {
   "cell_type": "markdown",
   "id": "1214ae2a-c1a9-41ce-9ed0-b38ef076641c",
   "metadata": {},
   "source": [
    "# Removing  Latitude, Longitude to make it more pure for Temporal Convolutional Networks"
   ]
  },
  {
   "cell_type": "code",
   "execution_count": 1109,
   "id": "b0cfefb0-5aef-43a3-bf9b-4d226c334c0c",
   "metadata": {},
   "outputs": [],
   "source": [
    "columns_to_drop = ['Latitude', 'Longitude']\n",
    "agri1 = agri1.drop(columns=columns_to_drop, errors='ignore')"
   ]
  },
  {
   "cell_type": "code",
   "execution_count": 1111,
   "id": "16d0f306-b3d5-4d38-b0cc-489a09a1c9a5",
   "metadata": {},
   "outputs": [
    {
     "data": {
      "text/html": [
       "<div>\n",
       "<style scoped>\n",
       "    .dataframe tbody tr th:only-of-type {\n",
       "        vertical-align: middle;\n",
       "    }\n",
       "\n",
       "    .dataframe tbody tr th {\n",
       "        vertical-align: top;\n",
       "    }\n",
       "\n",
       "    .dataframe thead th {\n",
       "        text-align: right;\n",
       "    }\n",
       "</style>\n",
       "<table border=\"1\" class=\"dataframe\">\n",
       "  <thead>\n",
       "    <tr style=\"text-align: right;\">\n",
       "      <th></th>\n",
       "      <th>Season</th>\n",
       "      <th>Province</th>\n",
       "      <th>Date</th>\n",
       "      <th>Stage</th>\n",
       "      <th>District_Encoded</th>\n",
       "      <th>Land_Encoded</th>\n",
       "      <th>Description_Encoded</th>\n",
       "    </tr>\n",
       "  </thead>\n",
       "  <tbody>\n",
       "    <tr>\n",
       "      <th>0</th>\n",
       "      <td>0</td>\n",
       "      <td>3</td>\n",
       "      <td>2023-01-09</td>\n",
       "      <td>5</td>\n",
       "      <td>5.017601</td>\n",
       "      <td>5.535951</td>\n",
       "      <td>5.536242</td>\n",
       "    </tr>\n",
       "    <tr>\n",
       "      <th>1</th>\n",
       "      <td>0</td>\n",
       "      <td>3</td>\n",
       "      <td>2023-01-09</td>\n",
       "      <td>5</td>\n",
       "      <td>7.294218</td>\n",
       "      <td>5.734399</td>\n",
       "      <td>5.804684</td>\n",
       "    </tr>\n",
       "    <tr>\n",
       "      <th>2</th>\n",
       "      <td>0</td>\n",
       "      <td>3</td>\n",
       "      <td>2023-01-09</td>\n",
       "      <td>5</td>\n",
       "      <td>7.294218</td>\n",
       "      <td>5.752693</td>\n",
       "      <td>5.000000</td>\n",
       "    </tr>\n",
       "    <tr>\n",
       "      <th>3</th>\n",
       "      <td>0</td>\n",
       "      <td>3</td>\n",
       "      <td>2023-01-09</td>\n",
       "      <td>5</td>\n",
       "      <td>7.294218</td>\n",
       "      <td>5.752693</td>\n",
       "      <td>5.000000</td>\n",
       "    </tr>\n",
       "    <tr>\n",
       "      <th>4</th>\n",
       "      <td>0</td>\n",
       "      <td>3</td>\n",
       "      <td>2023-01-09</td>\n",
       "      <td>5</td>\n",
       "      <td>7.294218</td>\n",
       "      <td>5.389719</td>\n",
       "      <td>5.257188</td>\n",
       "    </tr>\n",
       "  </tbody>\n",
       "</table>\n",
       "</div>"
      ],
      "text/plain": [
       "   Season  Province       Date  Stage  District_Encoded  Land_Encoded  \\\n",
       "0       0         3 2023-01-09      5          5.017601      5.535951   \n",
       "1       0         3 2023-01-09      5          7.294218      5.734399   \n",
       "2       0         3 2023-01-09      5          7.294218      5.752693   \n",
       "3       0         3 2023-01-09      5          7.294218      5.752693   \n",
       "4       0         3 2023-01-09      5          7.294218      5.389719   \n",
       "\n",
       "   Description_Encoded  \n",
       "0             5.536242  \n",
       "1             5.804684  \n",
       "2             5.000000  \n",
       "3             5.000000  \n",
       "4             5.257188  "
      ]
     },
     "execution_count": 1111,
     "metadata": {},
     "output_type": "execute_result"
    }
   ],
   "source": [
    "agri1.head()"
   ]
  },
  {
   "cell_type": "markdown",
   "id": "e1eef472-b00b-4d9f-aab3-28049ece31be",
   "metadata": {},
   "source": [
    "# Once I deployed the model, I found that model in overfitted. I found the issue of class imbalance, due to which 'Mature' a one value from Stage feature got overfitted."
   ]
  },
  {
   "cell_type": "markdown",
   "id": "1f3a1d78-2ec6-4192-bed2-9f0f8ea344bc",
   "metadata": {},
   "source": [
    "# Balance the Dataset"
   ]
  },
  {
   "cell_type": "markdown",
   "id": "4ea5d547-3cf9-452c-9773-569a6a239ffd",
   "metadata": {},
   "source": [
    "## 1️⃣ Remove Extremely Rare Stages (Stage 10 and Stage 11)"
   ]
  },
  {
   "cell_type": "code",
   "execution_count": 1151,
   "id": "1e62a529-568e-4ff6-bb1d-83cd0575db9e",
   "metadata": {},
   "outputs": [
    {
     "name": "stdout",
     "output_type": "stream",
     "text": [
      "Updated training label distribution: Counter({5: 51381, 7: 24746, 8: 11449, 3: 10872, 9: 5683, 1: 2361, 2: 1897, 4: 693, 6: 214, 0: 155})\n"
     ]
    }
   ],
   "source": [
    "mask = ~np.isin(y_train, [10, 11])\n",
    "X_train = X_train[mask]\n",
    "y_train = y_train[mask]\n",
    "\n",
    "print(\"Updated training label distribution:\", Counter(y_train))\n"
   ]
  },
  {
   "cell_type": "markdown",
   "id": "4cfa4146-95da-4003-ade8-a2a986247f9e",
   "metadata": {},
   "source": [
    "# Create Time-Series Sequences for TCN"
   ]
  },
  {
   "cell_type": "code",
   "execution_count": 1168,
   "id": "7da2ff1e-cfa7-4788-8420-a2892314537e",
   "metadata": {},
   "outputs": [
    {
     "name": "stdout",
     "output_type": "stream",
     "text": [
      "Input Shape: (136817, 5, 1)\n",
      "Target Shape: (136817,)\n"
     ]
    }
   ],
   "source": [
    "def create_sequences(data, target_column, seq_length=5):\n",
    "    X, y = [], []\n",
    "    for i in range(len(data) - seq_length):\n",
    "        X.append(data.iloc[i:i+seq_length][\"Season\"].values.reshape(-1, 1)) \n",
    "        y.append(data.iloc[i+seq_length][target_column])  \n",
    "    return np.array(X), np.array(y)\n",
    "\n",
    "X, y = create_sequences(agri1, target_column=\"Stage\", seq_length=5)\n",
    "\n",
    "print(\"Input Shape:\", X.shape) \n",
    "print(\"Target Shape:\", y.shape) "
   ]
  },
  {
   "cell_type": "markdown",
   "id": "655ef212-a399-48be-814f-9613a3badef6",
   "metadata": {},
   "source": [
    "# Split Data into Training and Testing Sets"
   ]
  },
  {
   "cell_type": "code",
   "execution_count": 1170,
   "id": "4644bf40-c5b3-4ccf-bae6-27a6db77e6a8",
   "metadata": {},
   "outputs": [
    {
     "name": "stdout",
     "output_type": "stream",
     "text": [
      "Final unique labels in y: [ 0  1  2  3  4  5  6  7  8  9 10 11]\n"
     ]
    }
   ],
   "source": [
    "y = np.array(y)\n",
    "most_frequent_label = Counter(y[~np.isnan(y)]).most_common(1)\n",
    "y = np.nan_to_num(y,nan=most_frequent_label)\n",
    "y = y.astype(int)\n",
    "print(\"Final unique labels in y:\", np.unique(y))"
   ]
  },
  {
   "cell_type": "code",
   "execution_count": 1172,
   "id": "69d8c913-ec13-4574-8ecc-4d7300ac77e7",
   "metadata": {},
   "outputs": [
    {
     "name": "stdout",
     "output_type": "stream",
     "text": [
      "Training Labels: [ 0  1  2  3  4  5  6  7  8  9 10 11]\n",
      "Testing Labels: [0 1 5 6 8]\n"
     ]
    }
   ],
   "source": [
    "X_train, X_test, y_train, y_test = train_test_split(X, y, test_size=0.2, shuffle=False)\n",
    "print(\"Training Labels:\", np.unique(y_train))\n",
    "print(\"Testing Labels:\", np.unique(y_test))"
   ]
  },
  {
   "cell_type": "markdown",
   "id": "14b59ae3-6087-4df6-9eaa-3816520c7264",
   "metadata": {},
   "source": [
    "# Build the TCN Model"
   ]
  },
  {
   "cell_type": "code",
   "execution_count": 1174,
   "id": "7412ecc3-5388-484c-822a-70edb889522d",
   "metadata": {},
   "outputs": [],
   "source": [
    "from tensorflow.keras import Input\n",
    "\n",
    "num_classes = len(np.unique(y))\n",
    "\n",
    "\n",
    "model = Sequential([\n",
    "    Input(shape=(5, 1)), \n",
    "    Conv1D(filters=64, kernel_size=3, dilation_rate=1, padding=\"causal\", activation=\"relu\"),\n",
    "    BatchNormalization(),\n",
    "    Conv1D(filters=64, kernel_size=3, dilation_rate=2, padding=\"causal\", activation=\"relu\"),\n",
    "    BatchNormalization(),\n",
    "    Flatten(),\n",
    "    Dense(64, activation=\"relu\"),\n",
    "    Dense(num_classes, activation=\"softmax\")  \n",
    "])"
   ]
  },
  {
   "cell_type": "markdown",
   "id": "a6955704-f1a2-41e9-bcde-1c37e74d7935",
   "metadata": {},
   "source": [
    "# Compile the Model"
   ]
  },
  {
   "cell_type": "code",
   "execution_count": 1176,
   "id": "7a3c4893-fc5c-4b26-be77-11ed1d6ff113",
   "metadata": {},
   "outputs": [],
   "source": [
    "model.compile(optimizer=\"adam\", loss=\"sparse_categorical_crossentropy\", metrics=[\"accuracy\"])"
   ]
  },
  {
   "cell_type": "markdown",
   "id": "669b9cb4-a595-40b0-a948-7aad8f69f695",
   "metadata": {},
   "source": [
    "# Train the TCN Model"
   ]
  },
  {
   "cell_type": "code",
   "execution_count": 1180,
   "id": "9b139d52-835c-4ebb-8f9e-105ec2b5f787",
   "metadata": {},
   "outputs": [
    {
     "name": "stdout",
     "output_type": "stream",
     "text": [
      "Epoch 1/20\n",
      "\u001b[1m3649/3649\u001b[0m \u001b[32m━━━━━━━━━━━━━━━━━━━━\u001b[0m\u001b[37m\u001b[0m \u001b[1m17s\u001b[0m 4ms/step - accuracy: 0.6930 - loss: 0.8793 - val_accuracy: 0.8232 - val_loss: 0.5515\n",
      "Epoch 2/20\n",
      "\u001b[1m3649/3649\u001b[0m \u001b[32m━━━━━━━━━━━━━━━━━━━━\u001b[0m\u001b[37m\u001b[0m \u001b[1m14s\u001b[0m 4ms/step - accuracy: 0.6925 - loss: 0.8553 - val_accuracy: 0.8232 - val_loss: 0.5544\n",
      "Epoch 3/20\n",
      "\u001b[1m3649/3649\u001b[0m \u001b[32m━━━━━━━━━━━━━━━━━━━━\u001b[0m\u001b[37m\u001b[0m \u001b[1m15s\u001b[0m 4ms/step - accuracy: 0.6939 - loss: 0.8515 - val_accuracy: 0.8232 - val_loss: 0.5568\n",
      "Epoch 4/20\n",
      "\u001b[1m3649/3649\u001b[0m \u001b[32m━━━━━━━━━━━━━━━━━━━━\u001b[0m\u001b[37m\u001b[0m \u001b[1m15s\u001b[0m 4ms/step - accuracy: 0.6939 - loss: 0.8496 - val_accuracy: 0.8232 - val_loss: 0.5550\n",
      "Epoch 5/20\n",
      "\u001b[1m3649/3649\u001b[0m \u001b[32m━━━━━━━━━━━━━━━━━━━━\u001b[0m\u001b[37m\u001b[0m \u001b[1m17s\u001b[0m 5ms/step - accuracy: 0.6952 - loss: 0.8509 - val_accuracy: 0.8232 - val_loss: 0.5511\n",
      "Epoch 6/20\n",
      "\u001b[1m3649/3649\u001b[0m \u001b[32m━━━━━━━━━━━━━━━━━━━━\u001b[0m\u001b[37m\u001b[0m \u001b[1m17s\u001b[0m 5ms/step - accuracy: 0.6950 - loss: 0.8504 - val_accuracy: 0.8232 - val_loss: 0.5569\n",
      "Epoch 7/20\n",
      "\u001b[1m3649/3649\u001b[0m \u001b[32m━━━━━━━━━━━━━━━━━━━━\u001b[0m\u001b[37m\u001b[0m \u001b[1m17s\u001b[0m 5ms/step - accuracy: 0.6949 - loss: 0.8493 - val_accuracy: 0.8232 - val_loss: 0.5634\n",
      "Epoch 8/20\n",
      "\u001b[1m3649/3649\u001b[0m \u001b[32m━━━━━━━━━━━━━━━━━━━━\u001b[0m\u001b[37m\u001b[0m \u001b[1m18s\u001b[0m 5ms/step - accuracy: 0.6953 - loss: 0.8468 - val_accuracy: 0.8232 - val_loss: 0.5539\n",
      "Epoch 9/20\n",
      "\u001b[1m3649/3649\u001b[0m \u001b[32m━━━━━━━━━━━━━━━━━━━━\u001b[0m\u001b[37m\u001b[0m \u001b[1m18s\u001b[0m 5ms/step - accuracy: 0.6945 - loss: 0.8473 - val_accuracy: 0.8232 - val_loss: 0.5545\n",
      "Epoch 10/20\n",
      "\u001b[1m3649/3649\u001b[0m \u001b[32m━━━━━━━━━━━━━━━━━━━━\u001b[0m\u001b[37m\u001b[0m \u001b[1m16s\u001b[0m 4ms/step - accuracy: 0.6947 - loss: 0.8474 - val_accuracy: 0.8232 - val_loss: 0.5578\n",
      "Epoch 11/20\n",
      "\u001b[1m3649/3649\u001b[0m \u001b[32m━━━━━━━━━━━━━━━━━━━━\u001b[0m\u001b[37m\u001b[0m \u001b[1m18s\u001b[0m 5ms/step - accuracy: 0.6954 - loss: 0.8480 - val_accuracy: 0.8232 - val_loss: 0.5610\n",
      "Epoch 12/20\n",
      "\u001b[1m3649/3649\u001b[0m \u001b[32m━━━━━━━━━━━━━━━━━━━━\u001b[0m\u001b[37m\u001b[0m \u001b[1m16s\u001b[0m 4ms/step - accuracy: 0.6959 - loss: 0.8471 - val_accuracy: 0.8232 - val_loss: 0.5545\n",
      "Epoch 13/20\n",
      "\u001b[1m3649/3649\u001b[0m \u001b[32m━━━━━━━━━━━━━━━━━━━━\u001b[0m\u001b[37m\u001b[0m \u001b[1m17s\u001b[0m 5ms/step - accuracy: 0.6953 - loss: 0.8479 - val_accuracy: 0.8232 - val_loss: 0.5642\n",
      "Epoch 14/20\n",
      "\u001b[1m3649/3649\u001b[0m \u001b[32m━━━━━━━━━━━━━━━━━━━━\u001b[0m\u001b[37m\u001b[0m \u001b[1m18s\u001b[0m 5ms/step - accuracy: 0.6967 - loss: 0.8454 - val_accuracy: 0.8232 - val_loss: 0.5597\n",
      "Epoch 15/20\n",
      "\u001b[1m3649/3649\u001b[0m \u001b[32m━━━━━━━━━━━━━━━━━━━━\u001b[0m\u001b[37m\u001b[0m \u001b[1m17s\u001b[0m 5ms/step - accuracy: 0.6980 - loss: 0.8436 - val_accuracy: 0.8232 - val_loss: 0.5503\n",
      "Epoch 16/20\n",
      "\u001b[1m3649/3649\u001b[0m \u001b[32m━━━━━━━━━━━━━━━━━━━━\u001b[0m\u001b[37m\u001b[0m \u001b[1m18s\u001b[0m 5ms/step - accuracy: 0.6955 - loss: 0.8452 - val_accuracy: 0.8232 - val_loss: 0.5587\n",
      "Epoch 17/20\n",
      "\u001b[1m3649/3649\u001b[0m \u001b[32m━━━━━━━━━━━━━━━━━━━━\u001b[0m\u001b[37m\u001b[0m \u001b[1m23s\u001b[0m 6ms/step - accuracy: 0.6967 - loss: 0.8464 - val_accuracy: 0.8232 - val_loss: 0.5561\n",
      "Epoch 18/20\n",
      "\u001b[1m3649/3649\u001b[0m \u001b[32m━━━━━━━━━━━━━━━━━━━━\u001b[0m\u001b[37m\u001b[0m \u001b[1m16s\u001b[0m 4ms/step - accuracy: 0.6969 - loss: 0.8443 - val_accuracy: 0.8232 - val_loss: 0.5533\n",
      "Epoch 19/20\n",
      "\u001b[1m3649/3649\u001b[0m \u001b[32m━━━━━━━━━━━━━━━━━━━━\u001b[0m\u001b[37m\u001b[0m \u001b[1m17s\u001b[0m 5ms/step - accuracy: 0.6938 - loss: 0.8505 - val_accuracy: 0.8232 - val_loss: 0.5624\n",
      "Epoch 20/20\n",
      "\u001b[1m3649/3649\u001b[0m \u001b[32m━━━━━━━━━━━━━━━━━━━━\u001b[0m\u001b[37m\u001b[0m \u001b[1m17s\u001b[0m 5ms/step - accuracy: 0.6935 - loss: 0.8513 - val_accuracy: 0.8232 - val_loss: 0.5539\n"
     ]
    }
   ],
   "source": [
    "history = model.fit(X_train, y_train, epochs=20, batch_size=30, validation_data=(X_test, y_test))"
   ]
  },
  {
   "cell_type": "markdown",
   "id": "86dfdc22-af3d-4b28-bca4-ae4e2f1daae0",
   "metadata": {},
   "source": [
    "# Evaluate Model Performance"
   ]
  },
  {
   "cell_type": "code",
   "execution_count": 1182,
   "id": "da4e53f8-5bdf-4ce1-97f2-3ff10b484fef",
   "metadata": {},
   "outputs": [
    {
     "name": "stdout",
     "output_type": "stream",
     "text": [
      "\u001b[1m856/856\u001b[0m \u001b[32m━━━━━━━━━━━━━━━━━━━━\u001b[0m\u001b[37m\u001b[0m \u001b[1m1s\u001b[0m 2ms/step - accuracy: 0.8558 - loss: 0.4993\n",
      "Test Accuracy: 0.8231983780860901\n"
     ]
    }
   ],
   "source": [
    "loss, accuracy = model.evaluate(X_test, y_test)\n",
    "print(\"Test Accuracy:\", accuracy)"
   ]
  },
  {
   "cell_type": "markdown",
   "id": "cc831a8f-91de-43bf-9856-e3503599e2af",
   "metadata": {},
   "source": [
    "# Make Predictions"
   ]
  },
  {
   "cell_type": "code",
   "execution_count": null,
   "id": "b54de616-4766-4e5b-90a6-5c1fca669bce",
   "metadata": {},
   "outputs": [],
   "source": [
    "agri1.columns"
   ]
  },
  {
   "cell_type": "code",
   "execution_count": 1184,
   "id": "bf00ffb1-0746-4265-af31-50039b9ee430",
   "metadata": {},
   "outputs": [
    {
     "name": "stdout",
     "output_type": "stream",
     "text": [
      "Training set label distribution: Counter({5: 51381, 7: 24746, 8: 11449, 3: 10872, 9: 5683, 1: 2361, 2: 1897, 4: 693, 6: 214, 0: 155, 10: 1, 11: 1})\n",
      "Testing set label distribution: Counter({5: 22526, 8: 4221, 1: 498, 0: 78, 6: 41})\n"
     ]
    }
   ],
   "source": [
    "import numpy as np\n",
    "from collections import Counter\n",
    "\n",
    "train_distribution = Counter(y_train)\n",
    "test_distribution = Counter(y_test)\n",
    "\n",
    "print(\"Training set label distribution:\", train_distribution)\n",
    "print(\"Testing set label distribution:\", test_distribution)\n"
   ]
  },
  {
   "cell_type": "markdown",
   "id": "1c918509-dbaf-497b-8e8a-ba4d7afb64ad",
   "metadata": {},
   "source": [
    "# Model Deployment "
   ]
  },
  {
   "cell_type": "code",
   "execution_count": 1192,
   "id": "5899e4e9-e3b2-40f8-abad-00d1c2265cf8",
   "metadata": {},
   "outputs": [
    {
     "name": "stdout",
     "output_type": "stream",
     "text": [
      "\u001b[1m856/856\u001b[0m \u001b[32m━━━━━━━━━━━━━━━━━━━━\u001b[0m\u001b[37m\u001b[0m \u001b[1m1s\u001b[0m 1ms/step\n",
      "Actual: Mature, Predicted: Mature\n",
      "Actual: Mature, Predicted: Mature\n"
     ]
    }
   ],
   "source": [
    "import numpy as np\n",
    "stage_reverse_mapping = {\n",
    "    0: 'Ploughing',\n",
    "    1: 'Sowing',\n",
    "    2: 'Initial',\n",
    "    3: 'Vegetative',\n",
    "    4: 'Reproductive',\n",
    "    5: 'Mature',\n",
    "    6: 'Peak Growth',\n",
    "    7: 'Harvested',\n",
    "    8: \"Don't know\",\n",
    "}  \n",
    "\n",
    "y_pred = np.argmax(model.predict(X_test), axis=1)  # Get predicted class indices\n",
    "y_pred_labels = [stage_reverse_mapping[label] for label in y_pred]\n",
    "y_true_labels = [stage_reverse_mapping[label] for label in y_test]\n",
    "for i in range(2):\n",
    "    print(f\"Actual: {y_true_labels[i]}, Predicted: {y_pred_labels[i]}\")\n"
   ]
  },
  {
   "cell_type": "markdown",
   "id": "14289588-c7a1-41b1-b83c-0f48e954afcf",
   "metadata": {},
   "source": [
    "# ---------------------------------- The End ---------------------------------------"
   ]
  },
  {
   "cell_type": "markdown",
   "id": "24f80b05-3ff0-4720-a2ff-549e5e8c0ec5",
   "metadata": {},
   "source": [
    " # Model Performance Summary:"
   ]
  },
  {
   "cell_type": "markdown",
   "id": "453adab4-0b0e-4c5f-a0b1-4d056b229f4d",
   "metadata": {},
   "source": [
    "## Validation accuracy remains constant at 82.32%, suggesting a performance plateau.\n",
    "## Training accuracy (~69%) is lower than validation accuracy, indicating potential underfitting or data leakage.\n",
    "## Training loss decreases, but validation loss fluctuates slightly, meaning the model is learning but not improving significantly.\n",
    "## Overall, the model performs well but could benefit from further tuning (e.g., more layers, regularization, or data balancing) for better generalization. "
   ]
  },
  {
   "cell_type": "markdown",
   "id": "088136a5-4120-4205-815e-12de76442b40",
   "metadata": {},
   "source": []
  }
 ],
 "metadata": {
  "kernelspec": {
   "display_name": "Python 3 (ipykernel)",
   "language": "python",
   "name": "python3"
  },
  "language_info": {
   "codemirror_mode": {
    "name": "ipython",
    "version": 3
   },
   "file_extension": ".py",
   "mimetype": "text/x-python",
   "name": "python",
   "nbconvert_exporter": "python",
   "pygments_lexer": "ipython3",
   "version": "3.12.4"
  }
 },
 "nbformat": 4,
 "nbformat_minor": 5
}
